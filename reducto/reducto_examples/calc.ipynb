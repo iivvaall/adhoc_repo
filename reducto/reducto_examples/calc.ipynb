{
 "cells": [
  {
   "cell_type": "code",
   "execution_count": 1,
   "id": "b140a776-5fc6-46a1-951f-4e6aca75b29a",
   "metadata": {},
   "outputs": [],
   "source": [
    "import sys\n",
    "import importlib\n",
    "\n",
    "def add_path(path):\n",
    "    if path not in sys.path:\n",
    "        sys.path.append(path)\n",
    "\n",
    "add_path('..')\n",
    "\n",
    "import random\n",
    "\n",
    "from reducto_examples import calc_lexer, llcalc, lrcalc\n",
    "from reducto import lrk, llk, futils, grammar, parsing\n",
    "\n",
    "import reducto_examples.calc_lexer as L\n",
    "\n",
    "def reload():\n",
    "    for module in [futils, grammar, llk, lrk, calc_lexer, llcalc, lrcalc, parsing]:\n",
    "        importlib.reload(module)\n",
    "\n",
    "reload()"
   ]
  },
  {
   "cell_type": "markdown",
   "id": "55454340-ba7c-4213-ac6b-24afe9482511",
   "metadata": {},
   "source": [
    "# Functions"
   ]
  },
  {
   "cell_type": "code",
   "execution_count": 2,
   "id": "319d6641-93bf-48f7-8c67-529d64442246",
   "metadata": {},
   "outputs": [],
   "source": [
    "def display_symbol(symbol):\n",
    "    return symbol.__name__\n",
    "\n",
    "def display_seq(seq):\n",
    "    return ' '.join([display_symbol(symbol) for symbol in seq])\n",
    "               \n",
    "def display_lritem(lritem):\n",
    "    a = display_symbol(lritem.rule.left)\n",
    "    b1 = display_seq(lritem.rule.right[:lritem.pos])\n",
    "    b2 = display_seq(lritem.rule.right[lritem.pos:])\n",
    "    fwd = display_seq(lritem.fwd)\n",
    "    return f'{a} -> {b1} . {b2} ... {fwd}'\n",
    "\n",
    "def display_lrset(lrset):\n",
    "    res = [\n",
    "        display_lritem(lritem)\n",
    "        for lritem in lrset\n",
    "    ]\n",
    "    res.sort()\n",
    "    return '\\n'.join(res)\n",
    "\n",
    "def display_rule(rule):\n",
    "    a = display_symbol(rule.left)\n",
    "    b = display_seq(rule.right)\n",
    "    return f'{a} -> {b}'\n",
    "\n",
    "def display_grammar(grammar):\n",
    "    rules = [display_rule(rule) for rule in grammar.rules]\n",
    "    return '\\n'.join(sorted(rules))"
   ]
  },
  {
   "cell_type": "code",
   "execution_count": 3,
   "id": "1c8f4116-02fe-4293-a28f-8bed86ae7bfb",
   "metadata": {},
   "outputs": [
    {
     "data": {
      "text/plain": [
       "reducto_examples.calc_lexer.Number"
      ]
     },
     "execution_count": 3,
     "metadata": {},
     "output_type": "execute_result"
    }
   ],
   "source": [
    "reload()\n",
    "tokens = parsing.TokenStream(calc_lexer.parse_str('1 + 2 * 3'))\n",
    "tokens.forward_types(2)[0]"
   ]
  },
  {
   "cell_type": "markdown",
   "id": "a606651f-309f-426f-8710-3a55a5bbfe99",
   "metadata": {},
   "source": [
    "# Adhoc"
   ]
  },
  {
   "cell_type": "code",
   "execution_count": 4,
   "id": "9b76468b-504a-4620-b65a-8c6d7d727daf",
   "metadata": {},
   "outputs": [
    {
     "data": {
      "text/plain": [
       "{reducto_examples.llcalc.Top: frozenset({(),\n",
       "            (reducto_examples.calc_lexer.RP,)}),\n",
       " reducto_examples.llcalc.TopTail: frozenset({(),\n",
       "            (reducto_examples.calc_lexer.RP,)}),\n",
       " reducto_examples.llcalc.LeadSign: frozenset({(reducto_examples.calc_lexer.LP,),\n",
       "            (reducto_examples.calc_lexer.Number,)}),\n",
       " reducto_examples.llcalc.MultTail: frozenset({(),\n",
       "            (reducto_examples.calc_lexer.MinusSign,),\n",
       "            (reducto_examples.calc_lexer.PlusSign,),\n",
       "            (reducto_examples.calc_lexer.RP,)}),\n",
       " reducto_examples.llcalc.Mult: frozenset({(),\n",
       "            (reducto_examples.calc_lexer.MinusSign,),\n",
       "            (reducto_examples.calc_lexer.PlusSign,),\n",
       "            (reducto_examples.calc_lexer.RP,)}),\n",
       " reducto_examples.llcalc.Sign: frozenset({(reducto_examples.calc_lexer.LP,),\n",
       "            (reducto_examples.calc_lexer.Number,)}),\n",
       " reducto_examples.llcalc.LikeNumber: frozenset({(),\n",
       "            (reducto_examples.calc_lexer.DivSign,),\n",
       "            (reducto_examples.calc_lexer.MinusSign,),\n",
       "            (reducto_examples.calc_lexer.MultSign,),\n",
       "            (reducto_examples.calc_lexer.PlusSign,),\n",
       "            (reducto_examples.calc_lexer.RP,)})}"
      ]
     },
     "execution_count": 4,
     "metadata": {},
     "output_type": "execute_result"
    }
   ],
   "source": [
    "reload()\n",
    "parsing.LookaheadInfo(llcalc.calc, 1).follow"
   ]
  },
  {
   "cell_type": "markdown",
   "id": "c3f4bd3e-ecd5-4267-9bba-b585e480f781",
   "metadata": {},
   "source": [
    "# Recursive descent parser"
   ]
  },
  {
   "cell_type": "code",
   "execution_count": 5,
   "id": "032af55f-5da8-48c1-9f65-1e944b83662e",
   "metadata": {},
   "outputs": [],
   "source": [
    "def fwd(tokens):\n",
    "    if tokens.forward(1):\n",
    "        return type(tokens.forward(1)[0].value)\n",
    "    return None\n",
    "\n",
    "def error(tokens, msg):\n",
    "    if not tokens.forward(1):\n",
    "        pos = 'end of input'\n",
    "    else:\n",
    "        pos = tokens.forward(1)[0].posinfo[0]\n",
    "    raise Exception(f'{msg} at {pos}')\n",
    "\n",
    "def do_parse(method, str_to_parse, *args, **kwargs):\n",
    "    try:\n",
    "        return method(calc_lexer.stream_from_str(str_to_parse), *args, **kwargs)\n",
    "    except Exception as exc:\n",
    "        return str(exc)"
   ]
  },
  {
   "cell_type": "code",
   "execution_count": 6,
   "id": "1209ac3b-710f-4ad3-9ee8-60cf23ece791",
   "metadata": {},
   "outputs": [
    {
     "name": "stdout",
     "output_type": "stream",
     "text": [
      "<class 'reducto_examples.calc_lexer.Number'> TokenRecord(value=Number(value=1.0), posinfo=(0, 1))\n",
      "<class 'reducto_examples.calc_lexer.PlusSign'> TokenRecord(value=PlusSign(value='+'), posinfo=(1, 2))\n",
      "<class 'reducto_examples.calc_lexer.Number'> TokenRecord(value=Number(value=2.0), posinfo=(2, 3))\n",
      "<class 'reducto_examples.calc_lexer.MultSign'> TokenRecord(value=MultSign(value='*'), posinfo=(3, 4))\n",
      "<class 'reducto_examples.calc_lexer.Number'> TokenRecord(value=Number(value=3.0), posinfo=(4, 5))\n"
     ]
    }
   ],
   "source": [
    "stream = calc_lexer.stream_from_str('1+2*3')\n",
    "while fwd(stream):\n",
    "    print(fwd(stream), stream.shift())"
   ]
  },
  {
   "cell_type": "code",
   "execution_count": 7,
   "id": "4426fcb9-aa76-4845-9521-f43507b4544e",
   "metadata": {},
   "outputs": [],
   "source": [
    "def parse_sign(tokens, mandatory=True):\n",
    "    if fwd(tokens) == L.PlusSign:\n",
    "        tokens.shift()\n",
    "        return 1\n",
    "    elif fwd(tokens) is L.MinusSign:\n",
    "        tokens.shift()\n",
    "        return -1\n",
    "    elif mandatory:\n",
    "        raise error(tokens, 'plus or minus sign expected')\n",
    "    return 1\n",
    "\n",
    "assert do_parse(parse_sign, '+1') == 1\n",
    "assert do_parse(parse_sign, '-1') == -1\n",
    "assert do_parse(parse_sign, '(') == 'plus or minus sign expected at 0'\n",
    "assert do_parse(parse_sign, '(', mandatory=False) == 1"
   ]
  },
  {
   "cell_type": "code",
   "execution_count": 8,
   "id": "bf870460-b0cb-4846-ac7a-078e4d69c5da",
   "metadata": {},
   "outputs": [
    {
     "data": {
      "text/plain": [
       "-3.0"
      ]
     },
     "execution_count": 8,
     "metadata": {},
     "output_type": "execute_result"
    }
   ],
   "source": [
    "def parse_top(tokens):\n",
    "    res = parse_l1(tokens)\n",
    "    if not fwd(tokens):\n",
    "        raise error(tokens, 'unexpected input')\n",
    "    return res\n",
    "\n",
    "def parse_l1(tokens):\n",
    "    s = parse_sign(tokens, mandatory=False)\n",
    "    res = s * parse_l2(tokens)\n",
    "    while fwd(tokens) and fwd(tokens) is not L.RP:\n",
    "        s = parse_sign(tokens, mandatory=True)\n",
    "        res = res + s * parse_l2(tokens)\n",
    "    return res\n",
    "\n",
    "def parse_l2(tokens):\n",
    "    res = parse_numlike(tokens)\n",
    "    while fwd(tokens) is L.MultSign or fwd(tokens) is L.DivSign:\n",
    "        op = tokens.shift()\n",
    "        val = parse_numlike(tokens)\n",
    "        if isinstance(op.value, L.MultSign):\n",
    "            res = res * val \n",
    "        elif isinstance(op.value, L.DivSign):\n",
    "            res = res / val\n",
    "    return res\n",
    "\n",
    "def parse_numlike(tokens):\n",
    "    if fwd(tokens) is L.Number:\n",
    "        res = tokens.shift()\n",
    "        return res.value.value\n",
    "    elif fwd(tokens) is L.LP:\n",
    "        tokens.shift()\n",
    "        res = parse_l1(tokens)\n",
    "        if fwd(tokens) is L.RP:\n",
    "            tokens.shift()\n",
    "            return res\n",
    "        else:\n",
    "            error(tokens, 'RP expected')\n",
    "\n",
    "            \n",
    "do_parse(parse_l1, '+1 + (-2 * 3 + 4) * 5 + 6')"
   ]
  },
  {
   "cell_type": "markdown",
   "id": "8fe4a271-d6cc-4f95-a682-18409f48a17b",
   "metadata": {},
   "source": [
    "# Что такое грамматика"
   ]
  },
  {
   "cell_type": "code",
   "execution_count": 9,
   "id": "7414ac2a-13b2-4cbf-9cdd-e74c12965f57",
   "metadata": {},
   "outputs": [
    {
     "data": {
      "text/html": [
       "TopExp -> MinusSign MultExp<br>TopExp -> PlusSign MultExp<br>TopExp -> MultExp<br>TopExp -> TopExp MinusSign MultExp<br>TopExp -> TopExp PlusSign MultExp<br>MultExp -> LikeNumber<br>MultExp -> MultExp DivSign LikeNumber<br>MultExp -> MultExp MultSign LikeNumber<br>LikeNumber -> LP TopExp RP<br>LikeNumber -> Number"
      ],
      "text/plain": [
       "<reducto.grammar.Grammar at 0x790cac5328d0>"
      ]
     },
     "execution_count": 9,
     "metadata": {},
     "output_type": "execute_result"
    }
   ],
   "source": [
    "reload()\n",
    "lrcalc.calc"
   ]
  },
  {
   "cell_type": "code",
   "execution_count": 10,
   "id": "82260275-889c-4b54-b599-de5cf87c0908",
   "metadata": {},
   "outputs": [
    {
     "name": "stdout",
     "output_type": "stream",
     "text": [
      "TopExp\n",
      "TopExp MinusSign MultExp\n",
      "MultExp MinusSign MultExp\n",
      "LikeNumber MinusSign MultExp\n",
      "LP TopExp RP MinusSign MultExp\n",
      "LP MultExp RP MinusSign MultExp\n",
      "LP LikeNumber RP MinusSign MultExp\n",
      "LP Number RP MinusSign MultExp\n",
      "LP Number RP MinusSign MultExp MultSign LikeNumber\n",
      "LP Number RP MinusSign MultExp MultSign LikeNumber MultSign LikeNumber\n"
     ]
    }
   ],
   "source": [
    "def random_expand(grammar, seq, max_tries):\n",
    "    nonterms, terms = grammar.symbols()\n",
    "    res = [seq]\n",
    "    k = 0\n",
    "    while len(res) < max_tries:\n",
    "        seq = res[-1]\n",
    "        k += 1\n",
    "        expanded = False\n",
    "        for num in range(len(seq)):\n",
    "            if seq[num] not in nonterms:\n",
    "                continue\n",
    "            expanded = True\n",
    "            rules = [\n",
    "                rule \n",
    "                for rule in grammar.rules\n",
    "                if rule.left == seq[num]\n",
    "            ]\n",
    "            rule = random.choice(rules)\n",
    "            newseq = seq[0:num] + rule.right + seq[num+1:]\n",
    "            res.append(newseq)\n",
    "            break\n",
    "        if not expanded:\n",
    "            return res\n",
    "    return res\n",
    "\n",
    "seqs = random_expand(lrcalc.calc, (lrcalc.calc.start, ), 10)\n",
    "for seq in seqs:\n",
    "    print(' '.join([val.__name__ for val in seq]))"
   ]
  },
  {
   "cell_type": "markdown",
   "id": "099758c5-90a3-424b-bda6-4626aeb6878f",
   "metadata": {},
   "source": [
    "## LL(1)"
   ]
  },
  {
   "cell_type": "code",
   "execution_count": 11,
   "id": "fec4a3f0-07ea-4216-b3e2-73c0a64f1188",
   "metadata": {},
   "outputs": [
    {
     "data": {
      "text/html": [
       "Top -> LeadSign Mult TopTail<br>LeadSign -> <br>LeadSign -> Sign<br>Mult -> LikeNumber MultTail<br>TopTail -> <br>TopTail -> Sign Mult TopTail<br>Sign -> MinusSign<br>Sign -> PlusSign<br>LikeNumber -> LP Top RP<br>LikeNumber -> Number<br>MultTail -> <br>MultTail -> DivSign LikeNumber MultTail<br>MultTail -> MultSign LikeNumber MultTail"
      ],
      "text/plain": [
       "<reducto.grammar.Grammar at 0x790cac5019d0>"
      ]
     },
     "execution_count": 11,
     "metadata": {},
     "output_type": "execute_result"
    }
   ],
   "source": [
    "llcalc.calc"
   ]
  },
  {
   "cell_type": "code",
   "execution_count": 12,
   "id": "0be319b9-b800-4d25-8cde-4d598be5b7dc",
   "metadata": {},
   "outputs": [
    {
     "data": {
      "text/plain": [
       "Top(value=-3.0)"
      ]
     },
     "execution_count": 12,
     "metadata": {},
     "output_type": "execute_result"
    }
   ],
   "source": [
    "reload()\n",
    "str_to_parse = '+1 + (-2 * 3 + 4) * 5 + 6'\n",
    "\n",
    "llinfo = llk.LLInfo(llcalc.calc, 1)\n",
    "llparser = llk.LLParser(\n",
    "    k=1, \n",
    "    start=llcalc.calc.start, \n",
    "    terms=llinfo.terms,\n",
    "    rule_by_fwd=llinfo.rule_by_fwd\n",
    ")\n",
    "\n",
    "llparser.parse(calc_lexer.stream_from_str(str_to_parse))"
   ]
  },
  {
   "cell_type": "markdown",
   "id": "37b42e54-1e36-4c87-ad8e-7118612d65ed",
   "metadata": {},
   "source": [
    "# LR(1)"
   ]
  },
  {
   "cell_type": "code",
   "execution_count": 13,
   "id": "13750a78-d8a1-4a25-978d-44301ac55e03",
   "metadata": {},
   "outputs": [],
   "source": [
    "reload()\n",
    "\n",
    "lrinfo = lrk.LRInfo(lrcalc.calc, 1)\n",
    "\n",
    "def display_action(action):\n",
    "    if isinstance(action, lrk.Shift):\n",
    "        a = display_symbol(action.rule.left)\n",
    "        b1 = display_seq(action.rule.right[:action.pos])\n",
    "        b2 = display_seq(action.rule.right[action.pos:])\n",
    "        return f'shift {a} -> {b1} . {b2}'\n",
    "    if isinstance(action, lrk.Reduce):\n",
    "        return f'reduce {display_seq(action.rule.right)} to {display_symbol(action.rule.left)}'\n",
    "\n",
    "for prefix, fwd, actions in lrinfo.conflicts:\n",
    "    print(display_seq(prefix), '|', display_seq(fwd))\n",
    "    for action in actions:\n",
    "        print('    ', display_action(action))"
   ]
  },
  {
   "cell_type": "code",
   "execution_count": 14,
   "id": "db410a25-5786-44c0-970e-975203608e83",
   "metadata": {},
   "outputs": [
    {
     "name": "stdout",
     "output_type": "stream",
     "text": [
      "  ...  PlusSign\n",
      "PlusSign +  ...  Number\n",
      "PlusSign + Number 1.0  ...  PlusSign\n",
      "PlusSign + LikeNumber 1.0  ...  PlusSign\n",
      "PlusSign + MultExp 1.0  ...  PlusSign\n",
      "TopExp 1.0  ...  PlusSign\n",
      "TopExp 1.0 PlusSign +  ...  LP\n",
      "TopExp 1.0 PlusSign + LP (  ...  MinusSign\n",
      "TopExp 1.0 PlusSign + LP ( MinusSign -  ...  Number\n",
      "TopExp 1.0 PlusSign + LP ( MinusSign - Number 2.0  ...  MultSign\n",
      "TopExp 1.0 PlusSign + LP ( MinusSign - LikeNumber 2.0  ...  MultSign\n",
      "TopExp 1.0 PlusSign + LP ( MinusSign - MultExp 2.0  ...  MultSign\n",
      "TopExp 1.0 PlusSign + LP ( MinusSign - MultExp 2.0 MultSign *  ...  Number\n",
      "TopExp 1.0 PlusSign + LP ( MinusSign - MultExp 2.0 MultSign * Number 3.0  ...  PlusSign\n",
      "TopExp 1.0 PlusSign + LP ( MinusSign - MultExp 2.0 MultSign * LikeNumber 3.0  ...  PlusSign\n",
      "TopExp 1.0 PlusSign + LP ( MinusSign - MultExp 6.0  ...  PlusSign\n",
      "TopExp 1.0 PlusSign + LP ( TopExp -6.0  ...  PlusSign\n",
      "TopExp 1.0 PlusSign + LP ( TopExp -6.0 PlusSign +  ...  Number\n",
      "TopExp 1.0 PlusSign + LP ( TopExp -6.0 PlusSign + Number 4.0  ...  RP\n",
      "TopExp 1.0 PlusSign + LP ( TopExp -6.0 PlusSign + LikeNumber 4.0  ...  RP\n",
      "TopExp 1.0 PlusSign + LP ( TopExp -6.0 PlusSign + MultExp 4.0  ...  RP\n",
      "TopExp 1.0 PlusSign + LP ( TopExp -2.0  ...  RP\n",
      "TopExp 1.0 PlusSign + LP ( TopExp -2.0 RP )  ...  MultSign\n",
      "TopExp 1.0 PlusSign + LikeNumber -2.0  ...  MultSign\n",
      "TopExp 1.0 PlusSign + MultExp -2.0  ...  MultSign\n",
      "TopExp 1.0 PlusSign + MultExp -2.0 MultSign *  ...  Number\n",
      "TopExp 1.0 PlusSign + MultExp -2.0 MultSign * Number 5.0  ...  PlusSign\n",
      "TopExp 1.0 PlusSign + MultExp -2.0 MultSign * LikeNumber 5.0  ...  PlusSign\n",
      "TopExp 1.0 PlusSign + MultExp -10.0  ...  PlusSign\n",
      "TopExp -9.0  ...  PlusSign\n",
      "TopExp -9.0 PlusSign +  ...  Number\n",
      "TopExp -9.0 PlusSign + Number 6.0  ...  \n",
      "TopExp -9.0 PlusSign + LikeNumber 6.0  ...  \n",
      "TopExp -9.0 PlusSign + MultExp 6.0  ...  \n"
     ]
    },
    {
     "data": {
      "text/plain": [
       "TopExp(value=-3.0)"
      ]
     },
     "execution_count": 14,
     "metadata": {},
     "output_type": "execute_result"
    }
   ],
   "source": [
    "reload()\n",
    "str_to_parse = '+1 + (-2 * 3 + 4) * 5 + 6'\n",
    "\n",
    "\n",
    "lrinfo = lrk.LRInfo(lrcalc.calc, 1)\n",
    "lrparser = lrk.LRParser(\n",
    "    k=1, \n",
    "    start=lrcalc.calc.start, \n",
    "    lr_tables=lrinfo.lr_tables\n",
    ")\n",
    "\n",
    "lrparser.parse(calc_lexer.stream_from_str(str_to_parse))"
   ]
  }
 ],
 "metadata": {
  "kernelspec": {
   "display_name": "main11",
   "language": "python",
   "name": "main11"
  },
  "language_info": {
   "codemirror_mode": {
    "name": "ipython",
    "version": 3
   },
   "file_extension": ".py",
   "mimetype": "text/x-python",
   "name": "python",
   "nbconvert_exporter": "python",
   "pygments_lexer": "ipython3",
   "version": "3.11.8"
  }
 },
 "nbformat": 4,
 "nbformat_minor": 5
}
