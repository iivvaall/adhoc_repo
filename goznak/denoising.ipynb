{
 "cells": [
  {
   "cell_type": "markdown",
   "id": "5a926926",
   "metadata": {},
   "source": [
    "# Параеметры ноутбучика"
   ]
  },
  {
   "cell_type": "code",
   "execution_count": 1,
   "id": "13ae171f",
   "metadata": {},
   "outputs": [],
   "source": [
    "batch_size = 32\n",
    "num_workers = 0"
   ]
  },
  {
   "cell_type": "markdown",
   "id": "b75d1dec",
   "metadata": {},
   "source": [
    "# Распаковка файлов"
   ]
  },
  {
   "cell_type": "code",
   "execution_count": 93,
   "id": "4de4c564",
   "metadata": {},
   "outputs": [],
   "source": [
    "!rm -Rf ./Goznak_ML_Tasks/"
   ]
  },
  {
   "cell_type": "code",
   "execution_count": 94,
   "id": "b2ceaccd",
   "metadata": {
    "scrolled": true
   },
   "outputs": [
    {
     "name": "stdout",
     "output_type": "stream",
     "text": [
      "Archive:  Goznak_ML_Tasks.zip\n",
      "   creating: Goznak_ML_Tasks/\n",
      " extracting: Goznak_ML_Tasks/Tasks description-3.docx  \n",
      " extracting: Goznak_ML_Tasks/explore_data.rar  \n",
      " extracting: Goznak_ML_Tasks/train.part1.rar  \n",
      " extracting: Goznak_ML_Tasks/train.part2.rar  \n",
      " extracting: Goznak_ML_Tasks/val.rar  \n"
     ]
    }
   ],
   "source": [
    "%%bash\n",
    "unzip Goznak_ML_Tasks.zip"
   ]
  },
  {
   "cell_type": "code",
   "execution_count": 95,
   "id": "fb86219c",
   "metadata": {},
   "outputs": [],
   "source": [
    "%%bash\n",
    "cd Goznak_ML_Tasks\n",
    "unrar x train.part2.rar 1>/dev/null\n",
    "mv train train_\n",
    "mv ./train_/train train\n",
    "rmdir train_\n",
    "rm train.part1.rar train.part2.rar"
   ]
  },
  {
   "cell_type": "code",
   "execution_count": 96,
   "id": "fcebc95b",
   "metadata": {},
   "outputs": [],
   "source": [
    "%%bash\n",
    "cd Goznak_ML_Tasks\n",
    "unrar x val.rar 1>/dev/null\n",
    "mv val val_\n",
    "mv ./val_/val ./ \n",
    "rmdir val_\n",
    "rm val.rar"
   ]
  },
  {
   "cell_type": "code",
   "execution_count": 97,
   "id": "3e075e65",
   "metadata": {
    "scrolled": true
   },
   "outputs": [],
   "source": [
    "%%bash \n",
    "cd Goznak_ML_Tasks/\n",
    "unrar x explore_data.rar 1>/dev/null"
   ]
  },
  {
   "cell_type": "code",
   "execution_count": 98,
   "id": "d3133132",
   "metadata": {},
   "outputs": [
    {
     "name": "stdout",
     "output_type": "stream",
     "text": [
      "3.3G\t./Goznak_ML_Tasks/\r\n",
      "3.3G\ttotal\r\n"
     ]
    }
   ],
   "source": [
    "!du -hcxs ./Goznak_ML_Tasks/"
   ]
  },
  {
   "cell_type": "markdown",
   "id": "58cbf42b",
   "metadata": {},
   "source": [
    "\n",
    "# Датасет"
   ]
  },
  {
   "cell_type": "code",
   "execution_count": 2,
   "id": "b5fcdefe",
   "metadata": {},
   "outputs": [],
   "source": [
    "from pathlib import Path\n",
    "\n",
    "import torch\n",
    "from torch.utils.data import Dataset, DataLoader\n",
    "from torch.nn.utils.rnn import pad_sequence\n",
    "\n",
    "import numpy as np\n",
    "\n",
    "from tqdm.notebook import tqdm\n",
    "import matplotlib.pyplot as plt"
   ]
  },
  {
   "cell_type": "code",
   "execution_count": 3,
   "id": "ab08f00e",
   "metadata": {},
   "outputs": [
    {
     "data": {
      "text/plain": [
       "(12000, 2000)"
      ]
     },
     "execution_count": 3,
     "metadata": {},
     "output_type": "execute_result"
    }
   ],
   "source": [
    "class DenoiseDataset(Dataset):\n",
    "    def __init__(self, root):\n",
    "        self.clean = {\n",
    "            npy.name: npy\n",
    "            for subdir in (root/'clean').iterdir()\n",
    "            for npy in subdir.iterdir()\n",
    "        }\n",
    "        self.noisy = {\n",
    "            npy.name: npy\n",
    "            for subdir in (root/'noisy').iterdir()\n",
    "            for npy in subdir.iterdir()\n",
    "        }\n",
    "        self.names = sorted(self.clean.keys())\n",
    "        assert self.names == sorted(self.noisy.keys())\n",
    "        \n",
    "    def __len__(self):\n",
    "        return len(self.names)\n",
    "    \n",
    "    def __getitem__(self, i):\n",
    "        name = self.names[i]\n",
    "        res = {\n",
    "            'clean': np.load(self.clean[name]),\n",
    "            'noisy': np.load(self.noisy[name]),\n",
    "        }\n",
    "        res['mask'] = np.ones_like(res['clean'], dtype=np.uint8)\n",
    "        return res\n",
    "        \n",
    "train = DenoiseDataset(Path('Goznak_ML_Tasks/train'))\n",
    "val = DenoiseDataset(Path('Goznak_ML_Tasks/val'))\n",
    "len(train.names), len(val.names)"
   ]
  },
  {
   "cell_type": "code",
   "execution_count": 4,
   "id": "d99808fe",
   "metadata": {},
   "outputs": [
    {
     "data": {
      "text/plain": [
       "Text(0.5, 1.0, 'length distribution')"
      ]
     },
     "execution_count": 4,
     "metadata": {},
     "output_type": "execute_result"
    },
    {
     "data": {
      "image/png": "[encoded data removed]",
      "text/plain": [
       "<Figure size 432x288 with 1 Axes>"
      ]
     },
     "metadata": {
      "needs_background": "light"
     },
     "output_type": "display_data"
    }
   ],
   "source": [
    "plt.hist([len(item['clean']) for item in train], bins=100, alpha=0.5, label='train', density=True);\n",
    "plt.hist([len(item['clean']) for item in val], bins=100, alpha=0.5, label='val', density=True);\n",
    "plt.legend();\n",
    "plt.title('length distribution')"
   ]
  },
  {
   "cell_type": "code",
   "execution_count": 5,
   "id": "d4558e97",
   "metadata": {},
   "outputs": [
    {
     "data": {
      "text/plain": [
       "(799, 150, 0)"
      ]
     },
     "execution_count": 5,
     "metadata": {},
     "output_type": "execute_result"
    }
   ],
   "source": [
    "train_set = set([item.split('_')[0] for item in train.names])\n",
    "val_set = set([item.split('_')[0] for item in val.names])\n",
    "len(train_set), len(val_set), len(train_set.intersection(val_set))"
   ]
  },
  {
   "cell_type": "code",
   "execution_count": 6,
   "id": "02a02f34",
   "metadata": {},
   "outputs": [],
   "source": [
    "def rec_collate(lst):\n",
    "    return {\n",
    "        key: pad_sequence(\n",
    "            [torch.Tensor(elem[key]) for elem in lst],\n",
    "            batch_first=True\n",
    "        )\n",
    "        for key in ['clean', 'noisy', 'mask']\n",
    "    }\n",
    "        \n",
    "\n",
    "train_loader = DataLoader(\n",
    "    train, \n",
    "    batch_size=batch_size, \n",
    "    collate_fn=rec_collate,\n",
    "    num_workers=num_workers\n",
    ")\n",
    "val_loader = DataLoader(\n",
    "    val, \n",
    "    batch_size=batch_size, \n",
    "    collate_fn=rec_collate\n",
    ")\n",
    "\n",
    "for batch in train_loader:\n",
    "    break"
   ]
  },
  {
   "cell_type": "markdown",
   "id": "d736ef43",
   "metadata": {},
   "source": [
    "# Модель"
   ]
  },
  {
   "cell_type": "code",
   "execution_count": 55,
   "id": "508a9af1",
   "metadata": {},
   "outputs": [],
   "source": [
    "import torch\n",
    "from torch import nn"
   ]
  },
  {
   "cell_type": "code",
   "execution_count": 8,
   "id": "04d50ad1",
   "metadata": {},
   "outputs": [
    {
     "data": {
      "text/plain": [
       "torch.Size([32, 1041, 80])"
      ]
     },
     "execution_count": 8,
     "metadata": {},
     "output_type": "execute_result"
    }
   ],
   "source": []
  },
  {
   "cell_type": "code",
   "execution_count": 75,
   "id": "528a86d1",
   "metadata": {},
   "outputs": [
    {
     "data": {
      "application/vnd.jupyter.widget-view+json": {
       "model_id": "b09ee095b59040a7ba8cfaf170308271",
       "version_major": 2,
       "version_minor": 0
      },
      "text/plain": [
       "  0%|          | 0/375 [00:00<?, ?it/s]"
      ]
     },
     "metadata": {},
     "output_type": "display_data"
    },
    {
     "data": {
      "text/plain": [
       "{'mse': 0.2602274516063432}"
      ]
     },
     "execution_count": 75,
     "metadata": {},
     "output_type": "execute_result"
    }
   ],
   "source": [
    "def masked_mean(vals, mask):\n",
    "    batch_size = vals.shape[0]\n",
    "    vals = vals.reshape(batch_size, -1)\n",
    "    mask = mask.reshape(batch_size, -1)\n",
    "    return (vals * mask).sum(dim=1) / mask.sum(dim=1)\n",
    "\n",
    "\n",
    "def validate(model, loader):\n",
    "    model.eval()\n",
    "    torch.set_grad_enabled(False)\n",
    "    squared_errors = []\n",
    "    for batch in tqdm(loader):\n",
    "        batch_size = len(batch['clean'])\n",
    "        model_out = model(batch)\n",
    "        squared_error = (model_out - batch['clean'])**2\n",
    "        squared_errors.extend(\n",
    "            masked_mean(squared_error, batch['mask'])\\\n",
    "            .cpu().numpy().tolist()\n",
    "        )\n",
    "    squared_errors = np.array(squared_errors)\n",
    "\n",
    "    return {\n",
    "        'mse': np.array(squared_errors).mean()\n",
    "    }\n",
    "    return errors.mean()\n",
    "    \n",
    "validate(model, train_loader)"
   ]
  },
  {
   "cell_type": "markdown",
   "id": "a0e95038",
   "metadata": {},
   "source": [
    "# Baselines"
   ]
  },
  {
   "cell_type": "code",
   "execution_count": 76,
   "id": "f42c8b58",
   "metadata": {},
   "outputs": [
    {
     "data": {
      "application/vnd.jupyter.widget-view+json": {
       "model_id": "b66cfbeba2b34dfb866288a76da5b9d0",
       "version_major": 2,
       "version_minor": 0
      },
      "text/plain": [
       "  0%|          | 0/63 [00:00<?, ?it/s]"
      ]
     },
     "metadata": {},
     "output_type": "display_data"
    },
    {
     "data": {
      "text/plain": [
       "{'mse': 0.13281262585916556}"
      ]
     },
     "execution_count": 76,
     "metadata": {},
     "output_type": "execute_result"
    }
   ],
   "source": [
    "class Copy(nn.Module):\n",
    "    def forward(self, batch):\n",
    "        return batch['noisy']\n",
    "\n",
    "validate(Copy(), val_loader)"
   ]
  },
  {
   "cell_type": "markdown",
   "id": "9d2ba10a",
   "metadata": {},
   "source": [
    "# Обучение сети"
   ]
  },
  {
   "cell_type": "code",
   "execution_count": 79,
   "id": "45e9cddb",
   "metadata": {},
   "outputs": [],
   "source": [
    "from torch import optim"
   ]
  },
  {
   "cell_type": "code",
   "execution_count": 70,
   "id": "a35a1ef8",
   "metadata": {},
   "outputs": [
    {
     "data": {
      "text/plain": [
       "torch.Size([32, 1041, 80])"
      ]
     },
     "execution_count": 70,
     "metadata": {},
     "output_type": "execute_result"
    }
   ],
   "source": [
    "class Model(nn.Module):\n",
    "    def __init__(self, n_hidden=100):\n",
    "        super().__init__()\n",
    "        self.net = nn.LSTM(\n",
    "            input_size=80, \n",
    "            hidden_size=80,\n",
    "            batch_first=True\n",
    "        )\n",
    "        \n",
    "    def forward(self, batch):\n",
    "        return self.net(batch['clean'])[0]\n",
    "        \n",
    "model = Model()\n",
    "model(batch).shape"
   ]
  },
  {
   "cell_type": "code",
   "execution_count": 71,
   "id": "066c5326",
   "metadata": {},
   "outputs": [],
   "source": [
    "def train_loss(batch, model_out):\n",
    "    error = (model_out - batch['clean'])**2\n",
    "    return masked_mean(error, batch['mask']).mean()"
   ]
  },
  {
   "cell_type": "code",
   "execution_count": 84,
   "id": "22b92166",
   "metadata": {},
   "outputs": [
    {
     "data": {
      "application/vnd.jupyter.widget-view+json": {
       "model_id": "7b279710fbe44b3595b595e4dab880e2",
       "version_major": 2,
       "version_minor": 0
      },
      "text/plain": [
       "  0%|          | 0/10 [00:00<?, ?it/s]"
      ]
     },
     "metadata": {},
     "output_type": "display_data"
    },
    {
     "data": {
      "application/vnd.jupyter.widget-view+json": {
       "model_id": "",
       "version_major": 2,
       "version_minor": 0
      },
      "text/plain": [
       "  0%|          | 0/375 [00:00<?, ?it/s]"
      ]
     },
     "metadata": {},
     "output_type": "display_data"
    },
    {
     "data": {
      "application/vnd.jupyter.widget-view+json": {
       "model_id": "eb4f025194f14e96b80d837dbf157bff",
       "version_major": 2,
       "version_minor": 0
      },
      "text/plain": [
       "  0%|          | 0/375 [00:00<?, ?it/s]"
      ]
     },
     "metadata": {},
     "output_type": "display_data"
    },
    {
     "data": {
      "application/vnd.jupyter.widget-view+json": {
       "model_id": "fb6eed3a3da24d0282e062cf140b6e0f",
       "version_major": 2,
       "version_minor": 0
      },
      "text/plain": [
       "  0%|          | 0/63 [00:00<?, ?it/s]"
      ]
     },
     "metadata": {},
     "output_type": "display_data"
    },
    {
     "name": "stdout",
     "output_type": "stream",
     "text": [
      "{'mse': 0.0081239699437477} {'mse': 0.007173855497967452}\n"
     ]
    },
    {
     "data": {
      "application/vnd.jupyter.widget-view+json": {
       "model_id": "",
       "version_major": 2,
       "version_minor": 0
      },
      "text/plain": [
       "  0%|          | 0/375 [00:00<?, ?it/s]"
      ]
     },
     "metadata": {},
     "output_type": "display_data"
    },
    {
     "data": {
      "application/vnd.jupyter.widget-view+json": {
       "model_id": "271e7ae537354191a2af3cf232bec54f",
       "version_major": 2,
       "version_minor": 0
      },
      "text/plain": [
       "  0%|          | 0/375 [00:00<?, ?it/s]"
      ]
     },
     "metadata": {},
     "output_type": "display_data"
    },
    {
     "data": {
      "application/vnd.jupyter.widget-view+json": {
       "model_id": "a3b4f0e721c84d1e9c1eb6f8edd1bd82",
       "version_major": 2,
       "version_minor": 0
      },
      "text/plain": [
       "  0%|          | 0/63 [00:00<?, ?it/s]"
      ]
     },
     "metadata": {},
     "output_type": "display_data"
    },
    {
     "name": "stdout",
     "output_type": "stream",
     "text": [
      "{'mse': 0.005342001063836505} {'mse': 0.0044822781671537085}\n"
     ]
    },
    {
     "data": {
      "application/vnd.jupyter.widget-view+json": {
       "model_id": "",
       "version_major": 2,
       "version_minor": 0
      },
      "text/plain": [
       "  0%|          | 0/375 [00:00<?, ?it/s]"
      ]
     },
     "metadata": {},
     "output_type": "display_data"
    },
    {
     "data": {
      "application/vnd.jupyter.widget-view+json": {
       "model_id": "86c869bcc54d44ffb490042ce292ab0e",
       "version_major": 2,
       "version_minor": 0
      },
      "text/plain": [
       "  0%|          | 0/375 [00:00<?, ?it/s]"
      ]
     },
     "metadata": {},
     "output_type": "display_data"
    },
    {
     "data": {
      "application/vnd.jupyter.widget-view+json": {
       "model_id": "33b9613683984a89aee4afb6f9cdec81",
       "version_major": 2,
       "version_minor": 0
      },
      "text/plain": [
       "  0%|          | 0/63 [00:00<?, ?it/s]"
      ]
     },
     "metadata": {},
     "output_type": "display_data"
    },
    {
     "name": "stdout",
     "output_type": "stream",
     "text": [
      "{'mse': 0.004784455588669516} {'mse': 0.003968670826143352}\n"
     ]
    },
    {
     "data": {
      "application/vnd.jupyter.widget-view+json": {
       "model_id": "",
       "version_major": 2,
       "version_minor": 0
      },
      "text/plain": [
       "  0%|          | 0/375 [00:00<?, ?it/s]"
      ]
     },
     "metadata": {},
     "output_type": "display_data"
    },
    {
     "data": {
      "application/vnd.jupyter.widget-view+json": {
       "model_id": "e6c17ca91cd6461ba05a858a04e518a2",
       "version_major": 2,
       "version_minor": 0
      },
      "text/plain": [
       "  0%|          | 0/375 [00:00<?, ?it/s]"
      ]
     },
     "metadata": {},
     "output_type": "display_data"
    },
    {
     "data": {
      "application/vnd.jupyter.widget-view+json": {
       "model_id": "9dc35e7f99da4e4f8b9d7ed68f86a488",
       "version_major": 2,
       "version_minor": 0
      },
      "text/plain": [
       "  0%|          | 0/63 [00:00<?, ?it/s]"
      ]
     },
     "metadata": {},
     "output_type": "display_data"
    },
    {
     "name": "stdout",
     "output_type": "stream",
     "text": [
      "{'mse': 0.004283453380495} {'mse': 0.003484113052138127}\n"
     ]
    },
    {
     "data": {
      "application/vnd.jupyter.widget-view+json": {
       "model_id": "",
       "version_major": 2,
       "version_minor": 0
      },
      "text/plain": [
       "  0%|          | 0/375 [00:00<?, ?it/s]"
      ]
     },
     "metadata": {},
     "output_type": "display_data"
    },
    {
     "data": {
      "application/vnd.jupyter.widget-view+json": {
       "model_id": "b67e4f70b1a04b74b86c3f0b354128ff",
       "version_major": 2,
       "version_minor": 0
      },
      "text/plain": [
       "  0%|          | 0/375 [00:00<?, ?it/s]"
      ]
     },
     "metadata": {},
     "output_type": "display_data"
    },
    {
     "data": {
      "application/vnd.jupyter.widget-view+json": {
       "model_id": "c80c226583df475d976f995d327538d0",
       "version_major": 2,
       "version_minor": 0
      },
      "text/plain": [
       "  0%|          | 0/63 [00:00<?, ?it/s]"
      ]
     },
     "metadata": {},
     "output_type": "display_data"
    },
    {
     "name": "stdout",
     "output_type": "stream",
     "text": [
      "{'mse': 0.004248284895545415} {'mse': 0.003441904083621921}\n"
     ]
    },
    {
     "data": {
      "application/vnd.jupyter.widget-view+json": {
       "model_id": "",
       "version_major": 2,
       "version_minor": 0
      },
      "text/plain": [
       "  0%|          | 0/375 [00:00<?, ?it/s]"
      ]
     },
     "metadata": {},
     "output_type": "display_data"
    },
    {
     "data": {
      "application/vnd.jupyter.widget-view+json": {
       "model_id": "fdc054ccd95c4b148f412da74ad83b11",
       "version_major": 2,
       "version_minor": 0
      },
      "text/plain": [
       "  0%|          | 0/375 [00:00<?, ?it/s]"
      ]
     },
     "metadata": {},
     "output_type": "display_data"
    },
    {
     "data": {
      "application/vnd.jupyter.widget-view+json": {
       "model_id": "ef7111835603462bb9f609100fb22265",
       "version_major": 2,
       "version_minor": 0
      },
      "text/plain": [
       "  0%|          | 0/63 [00:00<?, ?it/s]"
      ]
     },
     "metadata": {},
     "output_type": "display_data"
    },
    {
     "name": "stdout",
     "output_type": "stream",
     "text": [
      "{'mse': 0.00417626455501401} {'mse': 0.0033742993197811303}\n"
     ]
    },
    {
     "data": {
      "application/vnd.jupyter.widget-view+json": {
       "model_id": "",
       "version_major": 2,
       "version_minor": 0
      },
      "text/plain": [
       "  0%|          | 0/375 [00:00<?, ?it/s]"
      ]
     },
     "metadata": {},
     "output_type": "display_data"
    },
    {
     "data": {
      "application/vnd.jupyter.widget-view+json": {
       "model_id": "9e3d81b7a83b46d68fd5ab00d39f9a7e",
       "version_major": 2,
       "version_minor": 0
      },
      "text/plain": [
       "  0%|          | 0/375 [00:00<?, ?it/s]"
      ]
     },
     "metadata": {},
     "output_type": "display_data"
    },
    {
     "data": {
      "application/vnd.jupyter.widget-view+json": {
       "model_id": "57aa70849a424e458fb36170a3d7064c",
       "version_major": 2,
       "version_minor": 0
      },
      "text/plain": [
       "  0%|          | 0/63 [00:00<?, ?it/s]"
      ]
     },
     "metadata": {},
     "output_type": "display_data"
    },
    {
     "name": "stdout",
     "output_type": "stream",
     "text": [
      "{'mse': 0.00411299122745307} {'mse': 0.003314156557928072}\n"
     ]
    },
    {
     "data": {
      "application/vnd.jupyter.widget-view+json": {
       "model_id": "",
       "version_major": 2,
       "version_minor": 0
      },
      "text/plain": [
       "  0%|          | 0/375 [00:00<?, ?it/s]"
      ]
     },
     "metadata": {},
     "output_type": "display_data"
    },
    {
     "data": {
      "application/vnd.jupyter.widget-view+json": {
       "model_id": "63152d2c6d17400a96ce1b928e35fcbb",
       "version_major": 2,
       "version_minor": 0
      },
      "text/plain": [
       "  0%|          | 0/375 [00:00<?, ?it/s]"
      ]
     },
     "metadata": {},
     "output_type": "display_data"
    },
    {
     "data": {
      "application/vnd.jupyter.widget-view+json": {
       "model_id": "47f60e5bd63d4d97a18072fa853fed1d",
       "version_major": 2,
       "version_minor": 0
      },
      "text/plain": [
       "  0%|          | 0/63 [00:00<?, ?it/s]"
      ]
     },
     "metadata": {},
     "output_type": "display_data"
    },
    {
     "name": "stdout",
     "output_type": "stream",
     "text": [
      "{'mse': 0.004460455746428731} {'mse': 0.0036551482338400094}\n"
     ]
    },
    {
     "data": {
      "application/vnd.jupyter.widget-view+json": {
       "model_id": "",
       "version_major": 2,
       "version_minor": 0
      },
      "text/plain": [
       "  0%|          | 0/375 [00:00<?, ?it/s]"
      ]
     },
     "metadata": {},
     "output_type": "display_data"
    },
    {
     "data": {
      "application/vnd.jupyter.widget-view+json": {
       "model_id": "7b99a73a4fb94e67a7d2adedc190cf10",
       "version_major": 2,
       "version_minor": 0
      },
      "text/plain": [
       "  0%|          | 0/375 [00:00<?, ?it/s]"
      ]
     },
     "metadata": {},
     "output_type": "display_data"
    },
    {
     "data": {
      "application/vnd.jupyter.widget-view+json": {
       "model_id": "2649d3ac6b6448fdbe772815ae34ec96",
       "version_major": 2,
       "version_minor": 0
      },
      "text/plain": [
       "  0%|          | 0/63 [00:00<?, ?it/s]"
      ]
     },
     "metadata": {},
     "output_type": "display_data"
    },
    {
     "name": "stdout",
     "output_type": "stream",
     "text": [
      "{'mse': 0.004196128217939986} {'mse': 0.0034162197029800156}\n"
     ]
    },
    {
     "data": {
      "application/vnd.jupyter.widget-view+json": {
       "model_id": "",
       "version_major": 2,
       "version_minor": 0
      },
      "text/plain": [
       "  0%|          | 0/375 [00:00<?, ?it/s]"
      ]
     },
     "metadata": {},
     "output_type": "display_data"
    },
    {
     "data": {
      "application/vnd.jupyter.widget-view+json": {
       "model_id": "c2f29bc63f194438aea294a95d582171",
       "version_major": 2,
       "version_minor": 0
      },
      "text/plain": [
       "  0%|          | 0/375 [00:00<?, ?it/s]"
      ]
     },
     "metadata": {},
     "output_type": "display_data"
    },
    {
     "data": {
      "application/vnd.jupyter.widget-view+json": {
       "model_id": "1a829e6ec043487cb753c097adc2dd3f",
       "version_major": 2,
       "version_minor": 0
      },
      "text/plain": [
       "  0%|          | 0/63 [00:00<?, ?it/s]"
      ]
     },
     "metadata": {},
     "output_type": "display_data"
    },
    {
     "name": "stdout",
     "output_type": "stream",
     "text": [
      "{'mse': 0.0038920214204141907} {'mse': 0.0031007455872313584}\n"
     ]
    }
   ],
   "source": [
    "model = Model()\n",
    "opt = optim.Adam(model.parameters(), lr=0.01)\n",
    "history = {'train': [], 'val': []}\n",
    "for epoch in tqdm(range(10)):\n",
    "    model.train()\n",
    "    torch.set_grad_enabled(True)\n",
    "    for batch in tqdm(train_loader, leave=False):\n",
    "        opt.zero_grad()\n",
    "        model_out = model(batch)\n",
    "        loss = train_loss(batch, model_out)\n",
    "        loss.backward()\n",
    "        opt.step()\n",
    "    history['train'].append(validate(model, train_loader))\n",
    "    history['val'].append(validate(model, val_loader))\n",
    "    print(history['train'][-1], history['val'][-1])"
   ]
  }
 ],
 "metadata": {
  "kernelspec": {
   "display_name": "Python 3 (ipykernel)",
   "language": "python",
   "name": "python3"
  },
  "language_info": {
   "codemirror_mode": {
    "name": "ipython",
    "version": 3
   },
   "file_extension": ".py",
   "mimetype": "text/x-python",
   "name": "python",
   "nbconvert_exporter": "python",
   "pygments_lexer": "ipython3",
   "version": "3.8.12"
  },
  "toc": {
   "base_numbering": 1,
   "nav_menu": {},
   "number_sections": true,
   "sideBar": true,
   "skip_h1_title": false,
   "title_cell": "Table of Contents",
   "title_sidebar": "Contents",
   "toc_cell": false,
   "toc_position": {},
   "toc_section_display": true,
   "toc_window_display": false
  }
 },
 "nbformat": 4,
 "nbformat_minor": 5
}
