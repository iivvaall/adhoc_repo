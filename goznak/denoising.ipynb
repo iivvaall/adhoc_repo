{
 "cells": [
  {
   "cell_type": "markdown",
   "id": "39780e20",
   "metadata": {},
   "source": [
    "# Тестовое задание дла goznak\n",
    "\n",
    "В рамках данной задачи предлагается решить несколько проблем, возникающих при работе с зашумленным звуком.\n",
    "\n",
    "Решение предполагает построение модели, использующее стандартные ML практики или нейронные сети, ее обучение и тестирование.\n",
    "\n",
    "Задача поделена на два этапа: \n",
    "1. Классификация (Junior): необходимо реализовать алгоритм, позволяющий определить, является ли аудиозапись зашумлённой или нет. \n",
    "2. Denoising (Middle): необходимо реализовать алгоритм, позволяющий избавиться от посторонних шумов в звуковом сигнале. \n",
    "\n",
    "## Описание данных:\n",
    "\n",
    "Для обучения и тестирования модели предоставлена выборка mel-спектрограмм, построенная по чистым и зашумленным звуковым файлам с голосом человека. Чистым звуком считается звук голоса без посторонних шумов (возможно с паузами). Шумом на зашумленных аудиозаписях может являться любой посторонний звук, который можно услышать в повседневной жизни: звонок телефона, проезжающая машина, звуки от чайника, смех и т.д. \n",
    "\n",
    "В качестве данных предоставлено 14 тысяч пар mel-спектрограмм (чистый звук + зашумлённый звук), соответствующих звуковым файлам, все файлы разных длительностей. Из них 12 тысяч – тренировочная выборка, 2 тысячи – валидационная. Тестирование будет проводиться на закрытой выборке, состоящей из 2 тысяч mel-спектрограмм\n",
    ".\n",
    "Данные можно скачать по ссылке https://cloud.mail.ru/public/39UY/5gfMbWVHH, а именно: train.part1.rar и train.part2.rar - тренировочная выборка, val.rar - валидационная выборка. Пример данных доступен в Jupyter notebook (explore_data.rar).\n",
    "\n",
    "Все данные разделены на чистые и зашумленные. Внутри каждой категории есть разделение по спикерам. Для каждого спикера есть набор из чистых данных и набор из зашумленных данных. Название файла с зашумленными данными соответствует названию файла с оригинальными данными.\n",
    "Топология данных для тренировочной выборки (для тестовой идентична): \n",
    "\n",
    "- clean\\\n",
    "- - speaker1_id\\\n",
    "- - - spec_sample_1_1.npy \n",
    "- - - spec_sample_1_2.npy\n",
    "- - - ...\n",
    "- - speaker2_id\\\n",
    "- - - spec_sample_2_1.npy \n",
    "- - - spec_sample_2_2.npy \n",
    "- - - ... \n",
    "- - ...\n",
    "- noise\\\n",
    "- - speaker1_id\\\n",
    "- - - spec_sample_1_1.npy \n",
    "- - - spec_sample_1_2.npy \n",
    "- - - ...\n",
    "- - speaker2_id\\\n",
    "- - - spec_sample_2_1.npy \n",
    "- - - spec_sample_2_2.npy \n",
    "- - - ...\n",
    "- - ... \n",
    "\n",
    "## Метрики:\n",
    "Метрика для алгоритма классификации: Accuracy.\n",
    "\n",
    "Метрика для алгоритма Denoising: MSE.\n",
    "\n",
    "## Дополнительные условия \n",
    "Язык программирования: любой.\n",
    "\n",
    "Библиотеки\\фреймворки для ML\\DL: любые.\n",
    "\n",
    "Результатом задачи должны являться:\n",
    "\n",
    "    * Скрипт(ы) для обучения\n",
    "    * Скрипт(ы) для запуска\n",
    "    * Readme с описанием алгоритмов и команд их запуска, – алгоритм должен принимать на вход файл mel-спектрограммы и решать задачу классификации или denoising."
   ]
  },
  {
   "cell_type": "markdown",
   "id": "ecac28f9",
   "metadata": {},
   "source": [
    "# Распаковка файлов"
   ]
  },
  {
   "cell_type": "code",
   "execution_count": 1,
   "id": "b88e03dd",
   "metadata": {},
   "outputs": [],
   "source": [
    "!apt-get install -y unrar 1>/dev/null"
   ]
  },
  {
   "cell_type": "code",
   "execution_count": 2,
   "id": "19ebd23f",
   "metadata": {},
   "outputs": [],
   "source": [
    "!rm -Rf ./Goznak_ML_Tasks/"
   ]
  },
  {
   "cell_type": "markdown",
   "id": "e832c892",
   "metadata": {},
   "source": [
    "Архивчик с файлами предполагается скаченным"
   ]
  },
  {
   "cell_type": "code",
   "execution_count": 3,
   "id": "3e669986",
   "metadata": {
    "scrolled": true
   },
   "outputs": [
    {
     "name": "stdout",
     "output_type": "stream",
     "text": [
      "Archive:  Goznak_ML_Tasks.zip\n",
      "   creating: Goznak_ML_Tasks/\n",
      " extracting: Goznak_ML_Tasks/Tasks description-3.docx  \n",
      " extracting: Goznak_ML_Tasks/explore_data.rar  \n",
      " extracting: Goznak_ML_Tasks/train.part1.rar  \n",
      " extracting: Goznak_ML_Tasks/train.part2.rar  \n",
      " extracting: Goznak_ML_Tasks/val.rar  \n"
     ]
    }
   ],
   "source": [
    "%%bash\n",
    "unzip Goznak_ML_Tasks.zip"
   ]
  },
  {
   "cell_type": "code",
   "execution_count": 4,
   "id": "bea2cb24",
   "metadata": {},
   "outputs": [],
   "source": [
    "%%bash\n",
    "cd Goznak_ML_Tasks\n",
    "unrar x train.part2.rar 1>/dev/null\n",
    "mv train train_\n",
    "mv ./train_/train train\n",
    "rmdir train_\n",
    "rm train.part1.rar train.part2.rar"
   ]
  },
  {
   "cell_type": "code",
   "execution_count": 5,
   "id": "55395889",
   "metadata": {},
   "outputs": [],
   "source": [
    "%%bash\n",
    "cd Goznak_ML_Tasks\n",
    "unrar x val.rar 1>/dev/null\n",
    "mv val val_\n",
    "mv ./val_/val ./ \n",
    "rmdir val_\n",
    "rm val.rar"
   ]
  },
  {
   "cell_type": "code",
   "execution_count": 6,
   "id": "31b549b5",
   "metadata": {
    "scrolled": true
   },
   "outputs": [],
   "source": [
    "%%bash \n",
    "cd Goznak_ML_Tasks/\n",
    "unrar x explore_data.rar 1>/dev/null"
   ]
  },
  {
   "cell_type": "code",
   "execution_count": 7,
   "id": "be16304b",
   "metadata": {},
   "outputs": [
    {
     "name": "stdout",
     "output_type": "stream",
     "text": [
      "3.3G\t./Goznak_ML_Tasks/\r\n",
      "3.3G\ttotal\r\n"
     ]
    }
   ],
   "source": [
    "!du -hcxs ./Goznak_ML_Tasks/"
   ]
  },
  {
   "cell_type": "markdown",
   "id": "e69cb427",
   "metadata": {},
   "source": [
    "# Параметры ноутбучика"
   ]
  },
  {
   "cell_type": "code",
   "execution_count": 8,
   "id": "5f491aaf",
   "metadata": {},
   "outputs": [],
   "source": [
    "batch_size = 512\n",
    "num_workers = 8\n",
    "device = 'cuda'"
   ]
  },
  {
   "cell_type": "markdown",
   "id": "5ce3de59",
   "metadata": {},
   "source": [
    "\n",
    "# Датасет"
   ]
  },
  {
   "cell_type": "code",
   "execution_count": 9,
   "id": "91e4dd27",
   "metadata": {},
   "outputs": [],
   "source": [
    "from pathlib import Path\n",
    "\n",
    "import torch\n",
    "from torch.utils.data import Dataset, DataLoader\n",
    "from torch.nn.utils.rnn import pad_sequence\n",
    "\n",
    "import numpy as np\n",
    "\n",
    "from tqdm.notebook import tqdm\n",
    "import matplotlib.pyplot as plt"
   ]
  },
  {
   "cell_type": "code",
   "execution_count": 10,
   "id": "3b10d7cc",
   "metadata": {},
   "outputs": [
    {
     "data": {
      "text/plain": [
       "(12000, 2000)"
      ]
     },
     "execution_count": 10,
     "metadata": {},
     "output_type": "execute_result"
    }
   ],
   "source": [
    "class DenoiseDataset(Dataset):\n",
    "    def __init__(self, root, has_target=True):\n",
    "        self.root = root\n",
    "        self.noisy = {\n",
    "            npy.name: npy\n",
    "            for subdir in (root/'noisy').iterdir()\n",
    "            for npy in subdir.iterdir()\n",
    "        }\n",
    "        self.names = sorted(self.noisy.keys())\n",
    "        self.has_target = has_target\n",
    "        if self.has_target:\n",
    "            self.clean = {\n",
    "                npy.name: npy\n",
    "                for subdir in (root/'clean').iterdir()\n",
    "                for npy in subdir.iterdir()\n",
    "            }\n",
    "            assert self.names == sorted(self.clean.keys())\n",
    "        \n",
    "    def __len__(self):\n",
    "        return len(self.names)\n",
    "    \n",
    "    def __getitem__(self, i):\n",
    "        name = self.names[i]\n",
    "        res = {\n",
    "            'noisy': np.load(self.noisy[name]),\n",
    "            'name': name\n",
    "        }\n",
    "        res['mask'] = np.ones_like(res['noisy'], dtype=np.uint8)\n",
    "        if self.has_target:\n",
    "            res['clean'] = np.load(self.clean[name])\n",
    "        return res\n",
    "        \n",
    "train = DenoiseDataset(Path('Goznak_ML_Tasks/train'))\n",
    "val = DenoiseDataset(Path('Goznak_ML_Tasks/val'))\n",
    "len(train.names), len(val.names)"
   ]
  },
  {
   "cell_type": "code",
   "execution_count": 11,
   "id": "27a542c5",
   "metadata": {},
   "outputs": [
    {
     "data": {
      "text/plain": [
       "Text(0.5, 1.0, 'length distribution')"
      ]
     },
     "execution_count": 11,
     "metadata": {},
     "output_type": "execute_result"
    },
    {
     "data": {
      "image/png": "[encoded data removed]",
      "text/plain": [
       "<Figure size 432x288 with 1 Axes>"
      ]
     },
     "metadata": {
      "needs_background": "light"
     },
     "output_type": "display_data"
    }
   ],
   "source": [
    "plt.hist([len(item['clean']) for item in train], bins=100, alpha=0.5, label='train', density=True);\n",
    "plt.hist([len(item['clean']) for item in val], bins=100, alpha=0.5, label='val', density=True);\n",
    "plt.legend();\n",
    "plt.title('length distribution')"
   ]
  },
  {
   "cell_type": "code",
   "execution_count": 12,
   "id": "21c62985",
   "metadata": {},
   "outputs": [
    {
     "data": {
      "text/plain": [
       "(799, 150, 0)"
      ]
     },
     "execution_count": 12,
     "metadata": {},
     "output_type": "execute_result"
    }
   ],
   "source": [
    "train_set = set([item.split('_')[0] for item in train.names])\n",
    "val_set = set([item.split('_')[0] for item in val.names])\n",
    "len(train_set), len(val_set), len(train_set.intersection(val_set))"
   ]
  },
  {
   "cell_type": "markdown",
   "id": "656605bf",
   "metadata": {},
   "source": [
    "Спикеры не пересекаются. Задача speaker independed"
   ]
  },
  {
   "cell_type": "code",
   "execution_count": 13,
   "id": "3dbe5e9b",
   "metadata": {},
   "outputs": [],
   "source": [
    "def loader_collate(lst):\n",
    "    keys = ['noisy', 'mask']\n",
    "    if 'clean' in lst[0]:\n",
    "        keys.append('clean')\n",
    "    res = {\n",
    "        key: pad_sequence(\n",
    "            [torch.Tensor(elem[key]) for elem in lst],\n",
    "            batch_first=True\n",
    "        )\n",
    "        for key in keys\n",
    "    }\n",
    "    res['name'] = [record['name'] for record in lst]\n",
    "    return res\n",
    "        \n",
    "\n",
    "train_loader = DataLoader(\n",
    "    train, \n",
    "    batch_size=batch_size, \n",
    "    collate_fn=loader_collate,\n",
    "    num_workers=num_workers\n",
    ")\n",
    "val_loader = DataLoader(\n",
    "    val, \n",
    "    batch_size=batch_size, \n",
    "    collate_fn=loader_collate\n",
    ")\n",
    "\n",
    "for batch in train_loader:\n",
    "    break"
   ]
  },
  {
   "cell_type": "markdown",
   "id": "32933968",
   "metadata": {},
   "source": [
    "# Расчет метрик"
   ]
  },
  {
   "cell_type": "code",
   "execution_count": 14,
   "id": "0c176520",
   "metadata": {},
   "outputs": [],
   "source": [
    "import torch\n",
    "from torch import nn"
   ]
  },
  {
   "cell_type": "code",
   "execution_count": 15,
   "id": "44fc61af",
   "metadata": {},
   "outputs": [],
   "source": [
    "def to_device(device, data):\n",
    "    if isinstance(data, dict):\n",
    "        return {\n",
    "            key: to_device(device, value)\n",
    "            for key, value in data.items()\n",
    "        }\n",
    "    if isinstance(data, torch.Tensor):\n",
    "        return data.to(device)\n",
    "    return data"
   ]
  },
  {
   "cell_type": "code",
   "execution_count": 16,
   "id": "7be3ca05",
   "metadata": {},
   "outputs": [],
   "source": [
    "def masked_mean(vals, mask):\n",
    "    batch_size = vals.shape[0]\n",
    "    vals = vals.reshape(batch_size, -1)\n",
    "    mask = mask.reshape(batch_size, -1)\n",
    "    return (vals * mask).sum(dim=1) / mask.sum(dim=1)\n",
    "\n",
    "\n",
    "def validate(model, loader):\n",
    "    \"\"\"\n",
    "        Считает MSE по каждому семплу, потом по ним усредняет\n",
    "    \"\"\"\n",
    "    model.eval()\n",
    "    torch.set_grad_enabled(False)\n",
    "    squared_errors = []\n",
    "    for batch in tqdm(loader, leave=False):\n",
    "        batch = to_device(device, batch)\n",
    "        batch_size = len(batch['clean'])\n",
    "        model_out = model(batch)\n",
    "        squared_error = (model_out - batch['clean'])**2\n",
    "        squared_errors.extend(\n",
    "            masked_mean(squared_error, batch['mask'])\\\n",
    "            .cpu().numpy().tolist()\n",
    "        )\n",
    "    squared_errors = np.array(squared_errors)\n",
    "\n",
    "    return {\n",
    "        'mse': np.array(squared_errors).mean()\n",
    "    }\n",
    "    return errors.mean()"
   ]
  },
  {
   "cell_type": "markdown",
   "id": "c6d67c8e",
   "metadata": {},
   "source": [
    "## Копирующий baseline"
   ]
  },
  {
   "cell_type": "code",
   "execution_count": 17,
   "id": "07f40e44",
   "metadata": {},
   "outputs": [
    {
     "data": {
      "application/vnd.jupyter.widget-view+json": {
       "model_id": "",
       "version_major": 2,
       "version_minor": 0
      },
      "text/plain": [
       "  0%|          | 0/24 [00:00<?, ?it/s]"
      ]
     },
     "metadata": {},
     "output_type": "display_data"
    },
    {
     "data": {
      "application/vnd.jupyter.widget-view+json": {
       "model_id": "",
       "version_major": 2,
       "version_minor": 0
      },
      "text/plain": [
       "  0%|          | 0/4 [00:00<?, ?it/s]"
      ]
     },
     "metadata": {},
     "output_type": "display_data"
    },
    {
     "data": {
      "text/plain": [
       "({'mse': 0.13258741769323312}, {'mse': 0.1328126230945927})"
      ]
     },
     "execution_count": 17,
     "metadata": {},
     "output_type": "execute_result"
    }
   ],
   "source": [
    "class Copy(nn.Module):\n",
    "    def forward(self, batch):\n",
    "        return batch['noisy']\n",
    "\n",
    "copy = Copy()\n",
    "validate(copy, train_loader), validate(copy, val_loader)"
   ]
  },
  {
   "cell_type": "markdown",
   "id": "951fdd71",
   "metadata": {},
   "source": [
    "## Константные предикты"
   ]
  },
  {
   "cell_type": "code",
   "execution_count": 18,
   "id": "b166d605",
   "metadata": {},
   "outputs": [
    {
     "data": {
      "application/vnd.jupyter.widget-view+json": {
       "model_id": "",
       "version_major": 2,
       "version_minor": 0
      },
      "text/plain": [
       "  0%|          | 0/24 [00:00<?, ?it/s]"
      ]
     },
     "metadata": {},
     "output_type": "display_data"
    },
    {
     "data": {
      "application/vnd.jupyter.widget-view+json": {
       "model_id": "",
       "version_major": 2,
       "version_minor": 0
      },
      "text/plain": [
       "  0%|          | 0/24 [00:00<?, ?it/s]"
      ]
     },
     "metadata": {},
     "output_type": "display_data"
    },
    {
     "data": {
      "application/vnd.jupyter.widget-view+json": {
       "model_id": "",
       "version_major": 2,
       "version_minor": 0
      },
      "text/plain": [
       "  0%|          | 0/4 [00:00<?, ?it/s]"
      ]
     },
     "metadata": {},
     "output_type": "display_data"
    },
    {
     "data": {
      "text/plain": [
       "({'mse': 0.17872912955842912}, {'mse': 0.18071545355021953})"
      ]
     },
     "execution_count": 18,
     "metadata": {},
     "output_type": "execute_result"
    }
   ],
   "source": [
    "def calc_const_baseline(loader):\n",
    "    res = []\n",
    "    for batch in tqdm(loader, leave=False):\n",
    "        batch['clean'].mean(axis=0)\n",
    "        means = batch['clean'].sum(dim=1) / batch['mask'].sum(dim=1)\n",
    "        res.append(means.cpu().numpy())\n",
    "    return torch.Tensor(np.concatenate(res).mean(axis=0))\n",
    "\n",
    "const_baseline = calc_const_baseline(train_loader)\n",
    "\n",
    "class ConstModel(nn.Module):\n",
    "    def __init__(self, const_data):\n",
    "        super().__init__()\n",
    "        self.const = nn.Parameter(const_data)\n",
    "        \n",
    "    def forward(self, batch):\n",
    "        batch_size, seq_len, _  = batch['noisy'].shape\n",
    "        res = self.const.reshape(1, 1, 80)\n",
    "        return res.repeat(batch_size, seq_len, 1)\n",
    "    \n",
    "const_model = ConstModel(const_baseline).to(device)    \n",
    "validate(const_model, train_loader), validate(const_model, val_loader)"
   ]
  },
  {
   "cell_type": "markdown",
   "id": "e1ccc3ce",
   "metadata": {},
   "source": [
    "# Обучение сети"
   ]
  },
  {
   "cell_type": "code",
   "execution_count": 19,
   "id": "840a6fd6",
   "metadata": {},
   "outputs": [],
   "source": [
    "from torch import optim"
   ]
  },
  {
   "cell_type": "code",
   "execution_count": 20,
   "id": "3f62055d",
   "metadata": {},
   "outputs": [],
   "source": [
    "for sample in val_loader:\n",
    "    break\n",
    "sample = to_device(device, sample)"
   ]
  },
  {
   "cell_type": "code",
   "execution_count": 21,
   "id": "b7372ff3",
   "metadata": {},
   "outputs": [
    {
     "data": {
      "text/plain": [
       "torch.Size([512, 1062, 80])"
      ]
     },
     "execution_count": 21,
     "metadata": {},
     "output_type": "execute_result"
    }
   ],
   "source": [
    "class Model(nn.Module):\n",
    "    def __init__(self):\n",
    "        super().__init__()\n",
    "        self.net = nn.LSTM(\n",
    "            input_size=80, \n",
    "            hidden_size=80,\n",
    "            batch_first=True\n",
    "        )\n",
    "        \n",
    "    def forward(self, batch):\n",
    "        return self.net(batch['noisy'])[0]\n",
    "        \n",
    "model = Model().to(device)\n",
    "model(sample).shape"
   ]
  },
  {
   "cell_type": "code",
   "execution_count": 22,
   "id": "1b1764e3",
   "metadata": {},
   "outputs": [],
   "source": [
    "def train_loss(batch, model_out):\n",
    "    error = (model_out - batch['clean'])**2\n",
    "    return masked_mean(error, batch['mask']).mean()"
   ]
  },
  {
   "cell_type": "code",
   "execution_count": 23,
   "id": "29f294d0",
   "metadata": {},
   "outputs": [
    {
     "data": {
      "application/vnd.jupyter.widget-view+json": {
       "model_id": "e4c7bb6a24764a4e86b9c4de2bed7513",
       "version_major": 2,
       "version_minor": 0
      },
      "text/plain": [
       "  0%|          | 0/30 [00:00<?, ?it/s]"
      ]
     },
     "metadata": {},
     "output_type": "display_data"
    },
    {
     "data": {
      "application/vnd.jupyter.widget-view+json": {
       "model_id": "",
       "version_major": 2,
       "version_minor": 0
      },
      "text/plain": [
       "  0%|          | 0/24 [00:00<?, ?it/s]"
      ]
     },
     "metadata": {},
     "output_type": "display_data"
    },
    {
     "data": {
      "application/vnd.jupyter.widget-view+json": {
       "model_id": "",
       "version_major": 2,
       "version_minor": 0
      },
      "text/plain": [
       "  0%|          | 0/24 [00:00<?, ?it/s]"
      ]
     },
     "metadata": {},
     "output_type": "display_data"
    },
    {
     "data": {
      "application/vnd.jupyter.widget-view+json": {
       "model_id": "",
       "version_major": 2,
       "version_minor": 0
      },
      "text/plain": [
       "  0%|          | 0/4 [00:00<?, ?it/s]"
      ]
     },
     "metadata": {},
     "output_type": "display_data"
    },
    {
     "name": "stdout",
     "output_type": "stream",
     "text": [
      "{'mse': 0.10832841082351903} {'mse': 0.1085808018874377}\n"
     ]
    },
    {
     "data": {
      "application/vnd.jupyter.widget-view+json": {
       "model_id": "",
       "version_major": 2,
       "version_minor": 0
      },
      "text/plain": [
       "  0%|          | 0/24 [00:00<?, ?it/s]"
      ]
     },
     "metadata": {},
     "output_type": "display_data"
    },
    {
     "data": {
      "application/vnd.jupyter.widget-view+json": {
       "model_id": "",
       "version_major": 2,
       "version_minor": 0
      },
      "text/plain": [
       "  0%|          | 0/24 [00:00<?, ?it/s]"
      ]
     },
     "metadata": {},
     "output_type": "display_data"
    },
    {
     "data": {
      "application/vnd.jupyter.widget-view+json": {
       "model_id": "",
       "version_major": 2,
       "version_minor": 0
      },
      "text/plain": [
       "  0%|          | 0/4 [00:00<?, ?it/s]"
      ]
     },
     "metadata": {},
     "output_type": "display_data"
    },
    {
     "name": "stdout",
     "output_type": "stream",
     "text": [
      "{'mse': 0.08852702678227797} {'mse': 0.08875482958834618}\n"
     ]
    },
    {
     "data": {
      "application/vnd.jupyter.widget-view+json": {
       "model_id": "",
       "version_major": 2,
       "version_minor": 0
      },
      "text/plain": [
       "  0%|          | 0/24 [00:00<?, ?it/s]"
      ]
     },
     "metadata": {},
     "output_type": "display_data"
    },
    {
     "data": {
      "application/vnd.jupyter.widget-view+json": {
       "model_id": "",
       "version_major": 2,
       "version_minor": 0
      },
      "text/plain": [
       "  0%|          | 0/24 [00:00<?, ?it/s]"
      ]
     },
     "metadata": {},
     "output_type": "display_data"
    },
    {
     "data": {
      "application/vnd.jupyter.widget-view+json": {
       "model_id": "",
       "version_major": 2,
       "version_minor": 0
      },
      "text/plain": [
       "  0%|          | 0/4 [00:00<?, ?it/s]"
      ]
     },
     "metadata": {},
     "output_type": "display_data"
    },
    {
     "name": "stdout",
     "output_type": "stream",
     "text": [
      "{'mse': 0.08821635944442824} {'mse': 0.08871116793435067}\n"
     ]
    },
    {
     "data": {
      "application/vnd.jupyter.widget-view+json": {
       "model_id": "",
       "version_major": 2,
       "version_minor": 0
      },
      "text/plain": [
       "  0%|          | 0/24 [00:00<?, ?it/s]"
      ]
     },
     "metadata": {},
     "output_type": "display_data"
    },
    {
     "data": {
      "application/vnd.jupyter.widget-view+json": {
       "model_id": "",
       "version_major": 2,
       "version_minor": 0
      },
      "text/plain": [
       "  0%|          | 0/24 [00:00<?, ?it/s]"
      ]
     },
     "metadata": {},
     "output_type": "display_data"
    },
    {
     "data": {
      "application/vnd.jupyter.widget-view+json": {
       "model_id": "",
       "version_major": 2,
       "version_minor": 0
      },
      "text/plain": [
       "  0%|          | 0/4 [00:00<?, ?it/s]"
      ]
     },
     "metadata": {},
     "output_type": "display_data"
    },
    {
     "name": "stdout",
     "output_type": "stream",
     "text": [
      "{'mse': 0.08396647036184246} {'mse': 0.08457948738709092}\n"
     ]
    },
    {
     "data": {
      "application/vnd.jupyter.widget-view+json": {
       "model_id": "",
       "version_major": 2,
       "version_minor": 0
      },
      "text/plain": [
       "  0%|          | 0/24 [00:00<?, ?it/s]"
      ]
     },
     "metadata": {},
     "output_type": "display_data"
    },
    {
     "data": {
      "application/vnd.jupyter.widget-view+json": {
       "model_id": "",
       "version_major": 2,
       "version_minor": 0
      },
      "text/plain": [
       "  0%|          | 0/24 [00:00<?, ?it/s]"
      ]
     },
     "metadata": {},
     "output_type": "display_data"
    },
    {
     "data": {
      "application/vnd.jupyter.widget-view+json": {
       "model_id": "",
       "version_major": 2,
       "version_minor": 0
      },
      "text/plain": [
       "  0%|          | 0/4 [00:00<?, ?it/s]"
      ]
     },
     "metadata": {},
     "output_type": "display_data"
    },
    {
     "name": "stdout",
     "output_type": "stream",
     "text": [
      "{'mse': 0.0827424632726858} {'mse': 0.08319814015738666}\n"
     ]
    },
    {
     "data": {
      "application/vnd.jupyter.widget-view+json": {
       "model_id": "",
       "version_major": 2,
       "version_minor": 0
      },
      "text/plain": [
       "  0%|          | 0/24 [00:00<?, ?it/s]"
      ]
     },
     "metadata": {},
     "output_type": "display_data"
    },
    {
     "data": {
      "application/vnd.jupyter.widget-view+json": {
       "model_id": "",
       "version_major": 2,
       "version_minor": 0
      },
      "text/plain": [
       "  0%|          | 0/24 [00:00<?, ?it/s]"
      ]
     },
     "metadata": {},
     "output_type": "display_data"
    },
    {
     "data": {
      "application/vnd.jupyter.widget-view+json": {
       "model_id": "",
       "version_major": 2,
       "version_minor": 0
      },
      "text/plain": [
       "  0%|          | 0/4 [00:00<?, ?it/s]"
      ]
     },
     "metadata": {},
     "output_type": "display_data"
    },
    {
     "name": "stdout",
     "output_type": "stream",
     "text": [
      "{'mse': 0.0808045478418159} {'mse': 0.08128581816703082}\n"
     ]
    },
    {
     "data": {
      "application/vnd.jupyter.widget-view+json": {
       "model_id": "",
       "version_major": 2,
       "version_minor": 0
      },
      "text/plain": [
       "  0%|          | 0/24 [00:00<?, ?it/s]"
      ]
     },
     "metadata": {},
     "output_type": "display_data"
    },
    {
     "data": {
      "application/vnd.jupyter.widget-view+json": {
       "model_id": "",
       "version_major": 2,
       "version_minor": 0
      },
      "text/plain": [
       "  0%|          | 0/24 [00:00<?, ?it/s]"
      ]
     },
     "metadata": {},
     "output_type": "display_data"
    },
    {
     "data": {
      "application/vnd.jupyter.widget-view+json": {
       "model_id": "",
       "version_major": 2,
       "version_minor": 0
      },
      "text/plain": [
       "  0%|          | 0/4 [00:00<?, ?it/s]"
      ]
     },
     "metadata": {},
     "output_type": "display_data"
    },
    {
     "name": "stdout",
     "output_type": "stream",
     "text": [
      "{'mse': 0.08317942396691069} {'mse': 0.08365036535263061}\n"
     ]
    },
    {
     "data": {
      "application/vnd.jupyter.widget-view+json": {
       "model_id": "",
       "version_major": 2,
       "version_minor": 0
      },
      "text/plain": [
       "  0%|          | 0/24 [00:00<?, ?it/s]"
      ]
     },
     "metadata": {},
     "output_type": "display_data"
    },
    {
     "data": {
      "application/vnd.jupyter.widget-view+json": {
       "model_id": "",
       "version_major": 2,
       "version_minor": 0
      },
      "text/plain": [
       "  0%|          | 0/24 [00:00<?, ?it/s]"
      ]
     },
     "metadata": {},
     "output_type": "display_data"
    },
    {
     "data": {
      "application/vnd.jupyter.widget-view+json": {
       "model_id": "",
       "version_major": 2,
       "version_minor": 0
      },
      "text/plain": [
       "  0%|          | 0/4 [00:00<?, ?it/s]"
      ]
     },
     "metadata": {},
     "output_type": "display_data"
    },
    {
     "name": "stdout",
     "output_type": "stream",
     "text": [
      "{'mse': 0.07811046077264473} {'mse': 0.07855735269747674}\n"
     ]
    },
    {
     "data": {
      "application/vnd.jupyter.widget-view+json": {
       "model_id": "",
       "version_major": 2,
       "version_minor": 0
      },
      "text/plain": [
       "  0%|          | 0/24 [00:00<?, ?it/s]"
      ]
     },
     "metadata": {},
     "output_type": "display_data"
    },
    {
     "data": {
      "application/vnd.jupyter.widget-view+json": {
       "model_id": "",
       "version_major": 2,
       "version_minor": 0
      },
      "text/plain": [
       "  0%|          | 0/24 [00:00<?, ?it/s]"
      ]
     },
     "metadata": {},
     "output_type": "display_data"
    },
    {
     "data": {
      "application/vnd.jupyter.widget-view+json": {
       "model_id": "",
       "version_major": 2,
       "version_minor": 0
      },
      "text/plain": [
       "  0%|          | 0/4 [00:00<?, ?it/s]"
      ]
     },
     "metadata": {},
     "output_type": "display_data"
    },
    {
     "name": "stdout",
     "output_type": "stream",
     "text": [
      "{'mse': 0.07284615771394844} {'mse': 0.07311530607379974}\n"
     ]
    },
    {
     "data": {
      "application/vnd.jupyter.widget-view+json": {
       "model_id": "",
       "version_major": 2,
       "version_minor": 0
      },
      "text/plain": [
       "  0%|          | 0/24 [00:00<?, ?it/s]"
      ]
     },
     "metadata": {},
     "output_type": "display_data"
    },
    {
     "data": {
      "application/vnd.jupyter.widget-view+json": {
       "model_id": "",
       "version_major": 2,
       "version_minor": 0
      },
      "text/plain": [
       "  0%|          | 0/24 [00:00<?, ?it/s]"
      ]
     },
     "metadata": {},
     "output_type": "display_data"
    },
    {
     "data": {
      "application/vnd.jupyter.widget-view+json": {
       "model_id": "",
       "version_major": 2,
       "version_minor": 0
      },
      "text/plain": [
       "  0%|          | 0/4 [00:00<?, ?it/s]"
      ]
     },
     "metadata": {},
     "output_type": "display_data"
    },
    {
     "name": "stdout",
     "output_type": "stream",
     "text": [
      "{'mse': 0.07159442596773928} {'mse': 0.0718515480319038}\n"
     ]
    },
    {
     "data": {
      "application/vnd.jupyter.widget-view+json": {
       "model_id": "",
       "version_major": 2,
       "version_minor": 0
      },
      "text/plain": [
       "  0%|          | 0/24 [00:00<?, ?it/s]"
      ]
     },
     "metadata": {},
     "output_type": "display_data"
    },
    {
     "data": {
      "application/vnd.jupyter.widget-view+json": {
       "model_id": "",
       "version_major": 2,
       "version_minor": 0
      },
      "text/plain": [
       "  0%|          | 0/24 [00:00<?, ?it/s]"
      ]
     },
     "metadata": {},
     "output_type": "display_data"
    },
    {
     "data": {
      "application/vnd.jupyter.widget-view+json": {
       "model_id": "",
       "version_major": 2,
       "version_minor": 0
      },
      "text/plain": [
       "  0%|          | 0/4 [00:00<?, ?it/s]"
      ]
     },
     "metadata": {},
     "output_type": "display_data"
    },
    {
     "name": "stdout",
     "output_type": "stream",
     "text": [
      "{'mse': 0.0702100721760653} {'mse': 0.07042858254536986}\n"
     ]
    },
    {
     "data": {
      "application/vnd.jupyter.widget-view+json": {
       "model_id": "",
       "version_major": 2,
       "version_minor": 0
      },
      "text/plain": [
       "  0%|          | 0/24 [00:00<?, ?it/s]"
      ]
     },
     "metadata": {},
     "output_type": "display_data"
    },
    {
     "data": {
      "application/vnd.jupyter.widget-view+json": {
       "model_id": "",
       "version_major": 2,
       "version_minor": 0
      },
      "text/plain": [
       "  0%|          | 0/24 [00:00<?, ?it/s]"
      ]
     },
     "metadata": {},
     "output_type": "display_data"
    },
    {
     "data": {
      "application/vnd.jupyter.widget-view+json": {
       "model_id": "",
       "version_major": 2,
       "version_minor": 0
      },
      "text/plain": [
       "  0%|          | 0/4 [00:00<?, ?it/s]"
      ]
     },
     "metadata": {},
     "output_type": "display_data"
    },
    {
     "name": "stdout",
     "output_type": "stream",
     "text": [
      "{'mse': 0.06888859334386264} {'mse': 0.06905635701678693}\n"
     ]
    },
    {
     "data": {
      "application/vnd.jupyter.widget-view+json": {
       "model_id": "",
       "version_major": 2,
       "version_minor": 0
      },
      "text/plain": [
       "  0%|          | 0/24 [00:00<?, ?it/s]"
      ]
     },
     "metadata": {},
     "output_type": "display_data"
    },
    {
     "data": {
      "application/vnd.jupyter.widget-view+json": {
       "model_id": "",
       "version_major": 2,
       "version_minor": 0
      },
      "text/plain": [
       "  0%|          | 0/24 [00:00<?, ?it/s]"
      ]
     },
     "metadata": {},
     "output_type": "display_data"
    },
    {
     "data": {
      "application/vnd.jupyter.widget-view+json": {
       "model_id": "",
       "version_major": 2,
       "version_minor": 0
      },
      "text/plain": [
       "  0%|          | 0/4 [00:00<?, ?it/s]"
      ]
     },
     "metadata": {},
     "output_type": "display_data"
    },
    {
     "name": "stdout",
     "output_type": "stream",
     "text": [
      "{'mse': 0.06885489844965438} {'mse': 0.06894621756207198}\n"
     ]
    },
    {
     "data": {
      "application/vnd.jupyter.widget-view+json": {
       "model_id": "",
       "version_major": 2,
       "version_minor": 0
      },
      "text/plain": [
       "  0%|          | 0/24 [00:00<?, ?it/s]"
      ]
     },
     "metadata": {},
     "output_type": "display_data"
    },
    {
     "data": {
      "application/vnd.jupyter.widget-view+json": {
       "model_id": "",
       "version_major": 2,
       "version_minor": 0
      },
      "text/plain": [
       "  0%|          | 0/24 [00:00<?, ?it/s]"
      ]
     },
     "metadata": {},
     "output_type": "display_data"
    },
    {
     "data": {
      "application/vnd.jupyter.widget-view+json": {
       "model_id": "",
       "version_major": 2,
       "version_minor": 0
      },
      "text/plain": [
       "  0%|          | 0/4 [00:00<?, ?it/s]"
      ]
     },
     "metadata": {},
     "output_type": "display_data"
    },
    {
     "name": "stdout",
     "output_type": "stream",
     "text": [
      "{'mse': 0.06819121672182034} {'mse': 0.06840932488720865}\n"
     ]
    },
    {
     "data": {
      "application/vnd.jupyter.widget-view+json": {
       "model_id": "",
       "version_major": 2,
       "version_minor": 0
      },
      "text/plain": [
       "  0%|          | 0/24 [00:00<?, ?it/s]"
      ]
     },
     "metadata": {},
     "output_type": "display_data"
    },
    {
     "data": {
      "application/vnd.jupyter.widget-view+json": {
       "model_id": "",
       "version_major": 2,
       "version_minor": 0
      },
      "text/plain": [
       "  0%|          | 0/24 [00:00<?, ?it/s]"
      ]
     },
     "metadata": {},
     "output_type": "display_data"
    },
    {
     "data": {
      "application/vnd.jupyter.widget-view+json": {
       "model_id": "",
       "version_major": 2,
       "version_minor": 0
      },
      "text/plain": [
       "  0%|          | 0/4 [00:00<?, ?it/s]"
      ]
     },
     "metadata": {},
     "output_type": "display_data"
    },
    {
     "name": "stdout",
     "output_type": "stream",
     "text": [
      "{'mse': 0.06756907946057618} {'mse': 0.06763229798059911}\n"
     ]
    },
    {
     "data": {
      "application/vnd.jupyter.widget-view+json": {
       "model_id": "",
       "version_major": 2,
       "version_minor": 0
      },
      "text/plain": [
       "  0%|          | 0/24 [00:00<?, ?it/s]"
      ]
     },
     "metadata": {},
     "output_type": "display_data"
    },
    {
     "data": {
      "application/vnd.jupyter.widget-view+json": {
       "model_id": "",
       "version_major": 2,
       "version_minor": 0
      },
      "text/plain": [
       "  0%|          | 0/24 [00:00<?, ?it/s]"
      ]
     },
     "metadata": {},
     "output_type": "display_data"
    },
    {
     "data": {
      "application/vnd.jupyter.widget-view+json": {
       "model_id": "",
       "version_major": 2,
       "version_minor": 0
      },
      "text/plain": [
       "  0%|          | 0/4 [00:00<?, ?it/s]"
      ]
     },
     "metadata": {},
     "output_type": "display_data"
    },
    {
     "name": "stdout",
     "output_type": "stream",
     "text": [
      "{'mse': 0.06644296011452873} {'mse': 0.06662507951073349}\n"
     ]
    },
    {
     "data": {
      "application/vnd.jupyter.widget-view+json": {
       "model_id": "",
       "version_major": 2,
       "version_minor": 0
      },
      "text/plain": [
       "  0%|          | 0/24 [00:00<?, ?it/s]"
      ]
     },
     "metadata": {},
     "output_type": "display_data"
    },
    {
     "data": {
      "application/vnd.jupyter.widget-view+json": {
       "model_id": "",
       "version_major": 2,
       "version_minor": 0
      },
      "text/plain": [
       "  0%|          | 0/24 [00:00<?, ?it/s]"
      ]
     },
     "metadata": {},
     "output_type": "display_data"
    },
    {
     "data": {
      "application/vnd.jupyter.widget-view+json": {
       "model_id": "",
       "version_major": 2,
       "version_minor": 0
      },
      "text/plain": [
       "  0%|          | 0/4 [00:00<?, ?it/s]"
      ]
     },
     "metadata": {},
     "output_type": "display_data"
    },
    {
     "name": "stdout",
     "output_type": "stream",
     "text": [
      "{'mse': 0.06702691545523703} {'mse': 0.06716307660005987}\n"
     ]
    },
    {
     "data": {
      "application/vnd.jupyter.widget-view+json": {
       "model_id": "",
       "version_major": 2,
       "version_minor": 0
      },
      "text/plain": [
       "  0%|          | 0/24 [00:00<?, ?it/s]"
      ]
     },
     "metadata": {},
     "output_type": "display_data"
    },
    {
     "data": {
      "application/vnd.jupyter.widget-view+json": {
       "model_id": "",
       "version_major": 2,
       "version_minor": 0
      },
      "text/plain": [
       "  0%|          | 0/24 [00:00<?, ?it/s]"
      ]
     },
     "metadata": {},
     "output_type": "display_data"
    },
    {
     "data": {
      "application/vnd.jupyter.widget-view+json": {
       "model_id": "",
       "version_major": 2,
       "version_minor": 0
      },
      "text/plain": [
       "  0%|          | 0/4 [00:00<?, ?it/s]"
      ]
     },
     "metadata": {},
     "output_type": "display_data"
    },
    {
     "name": "stdout",
     "output_type": "stream",
     "text": [
      "{'mse': 0.0646329679543463} {'mse': 0.06455811868607998}\n"
     ]
    },
    {
     "data": {
      "application/vnd.jupyter.widget-view+json": {
       "model_id": "",
       "version_major": 2,
       "version_minor": 0
      },
      "text/plain": [
       "  0%|          | 0/24 [00:00<?, ?it/s]"
      ]
     },
     "metadata": {},
     "output_type": "display_data"
    },
    {
     "data": {
      "application/vnd.jupyter.widget-view+json": {
       "model_id": "",
       "version_major": 2,
       "version_minor": 0
      },
      "text/plain": [
       "  0%|          | 0/24 [00:00<?, ?it/s]"
      ]
     },
     "metadata": {},
     "output_type": "display_data"
    },
    {
     "data": {
      "application/vnd.jupyter.widget-view+json": {
       "model_id": "",
       "version_major": 2,
       "version_minor": 0
      },
      "text/plain": [
       "  0%|          | 0/4 [00:00<?, ?it/s]"
      ]
     },
     "metadata": {},
     "output_type": "display_data"
    },
    {
     "name": "stdout",
     "output_type": "stream",
     "text": [
      "{'mse': 0.06543176845104123} {'mse': 0.06566725369542838}\n"
     ]
    },
    {
     "data": {
      "application/vnd.jupyter.widget-view+json": {
       "model_id": "",
       "version_major": 2,
       "version_minor": 0
      },
      "text/plain": [
       "  0%|          | 0/24 [00:00<?, ?it/s]"
      ]
     },
     "metadata": {},
     "output_type": "display_data"
    },
    {
     "data": {
      "application/vnd.jupyter.widget-view+json": {
       "model_id": "",
       "version_major": 2,
       "version_minor": 0
      },
      "text/plain": [
       "  0%|          | 0/24 [00:00<?, ?it/s]"
      ]
     },
     "metadata": {},
     "output_type": "display_data"
    },
    {
     "data": {
      "application/vnd.jupyter.widget-view+json": {
       "model_id": "",
       "version_major": 2,
       "version_minor": 0
      },
      "text/plain": [
       "  0%|          | 0/4 [00:00<?, ?it/s]"
      ]
     },
     "metadata": {},
     "output_type": "display_data"
    },
    {
     "name": "stdout",
     "output_type": "stream",
     "text": [
      "{'mse': 0.06380364698482056} {'mse': 0.06379575708974153}\n"
     ]
    },
    {
     "data": {
      "application/vnd.jupyter.widget-view+json": {
       "model_id": "",
       "version_major": 2,
       "version_minor": 0
      },
      "text/plain": [
       "  0%|          | 0/24 [00:00<?, ?it/s]"
      ]
     },
     "metadata": {},
     "output_type": "display_data"
    },
    {
     "data": {
      "application/vnd.jupyter.widget-view+json": {
       "model_id": "",
       "version_major": 2,
       "version_minor": 0
      },
      "text/plain": [
       "  0%|          | 0/24 [00:00<?, ?it/s]"
      ]
     },
     "metadata": {},
     "output_type": "display_data"
    },
    {
     "data": {
      "application/vnd.jupyter.widget-view+json": {
       "model_id": "",
       "version_major": 2,
       "version_minor": 0
      },
      "text/plain": [
       "  0%|          | 0/4 [00:00<?, ?it/s]"
      ]
     },
     "metadata": {},
     "output_type": "display_data"
    },
    {
     "name": "stdout",
     "output_type": "stream",
     "text": [
      "{'mse': 0.06496073763103535} {'mse': 0.06493968679197133}\n"
     ]
    },
    {
     "data": {
      "application/vnd.jupyter.widget-view+json": {
       "model_id": "",
       "version_major": 2,
       "version_minor": 0
      },
      "text/plain": [
       "  0%|          | 0/24 [00:00<?, ?it/s]"
      ]
     },
     "metadata": {},
     "output_type": "display_data"
    },
    {
     "data": {
      "application/vnd.jupyter.widget-view+json": {
       "model_id": "",
       "version_major": 2,
       "version_minor": 0
      },
      "text/plain": [
       "  0%|          | 0/24 [00:00<?, ?it/s]"
      ]
     },
     "metadata": {},
     "output_type": "display_data"
    },
    {
     "data": {
      "application/vnd.jupyter.widget-view+json": {
       "model_id": "",
       "version_major": 2,
       "version_minor": 0
      },
      "text/plain": [
       "  0%|          | 0/4 [00:00<?, ?it/s]"
      ]
     },
     "metadata": {},
     "output_type": "display_data"
    },
    {
     "name": "stdout",
     "output_type": "stream",
     "text": [
      "{'mse': 0.06640609940808888} {'mse': 0.0664434831533581}\n"
     ]
    },
    {
     "data": {
      "application/vnd.jupyter.widget-view+json": {
       "model_id": "",
       "version_major": 2,
       "version_minor": 0
      },
      "text/plain": [
       "  0%|          | 0/24 [00:00<?, ?it/s]"
      ]
     },
     "metadata": {},
     "output_type": "display_data"
    },
    {
     "data": {
      "application/vnd.jupyter.widget-view+json": {
       "model_id": "",
       "version_major": 2,
       "version_minor": 0
      },
      "text/plain": [
       "  0%|          | 0/24 [00:00<?, ?it/s]"
      ]
     },
     "metadata": {},
     "output_type": "display_data"
    },
    {
     "data": {
      "application/vnd.jupyter.widget-view+json": {
       "model_id": "",
       "version_major": 2,
       "version_minor": 0
      },
      "text/plain": [
       "  0%|          | 0/4 [00:00<?, ?it/s]"
      ]
     },
     "metadata": {},
     "output_type": "display_data"
    },
    {
     "name": "stdout",
     "output_type": "stream",
     "text": [
      "{'mse': 0.06403020068227003} {'mse': 0.06407094220537693}\n"
     ]
    },
    {
     "data": {
      "application/vnd.jupyter.widget-view+json": {
       "model_id": "",
       "version_major": 2,
       "version_minor": 0
      },
      "text/plain": [
       "  0%|          | 0/24 [00:00<?, ?it/s]"
      ]
     },
     "metadata": {},
     "output_type": "display_data"
    },
    {
     "data": {
      "application/vnd.jupyter.widget-view+json": {
       "model_id": "",
       "version_major": 2,
       "version_minor": 0
      },
      "text/plain": [
       "  0%|          | 0/24 [00:00<?, ?it/s]"
      ]
     },
     "metadata": {},
     "output_type": "display_data"
    },
    {
     "data": {
      "application/vnd.jupyter.widget-view+json": {
       "model_id": "",
       "version_major": 2,
       "version_minor": 0
      },
      "text/plain": [
       "  0%|          | 0/4 [00:00<?, ?it/s]"
      ]
     },
     "metadata": {},
     "output_type": "display_data"
    },
    {
     "name": "stdout",
     "output_type": "stream",
     "text": [
      "{'mse': 0.06371718116275345} {'mse': 0.06376398276630789}\n"
     ]
    },
    {
     "data": {
      "application/vnd.jupyter.widget-view+json": {
       "model_id": "",
       "version_major": 2,
       "version_minor": 0
      },
      "text/plain": [
       "  0%|          | 0/24 [00:00<?, ?it/s]"
      ]
     },
     "metadata": {},
     "output_type": "display_data"
    },
    {
     "data": {
      "application/vnd.jupyter.widget-view+json": {
       "model_id": "",
       "version_major": 2,
       "version_minor": 0
      },
      "text/plain": [
       "  0%|          | 0/24 [00:00<?, ?it/s]"
      ]
     },
     "metadata": {},
     "output_type": "display_data"
    },
    {
     "data": {
      "application/vnd.jupyter.widget-view+json": {
       "model_id": "",
       "version_major": 2,
       "version_minor": 0
      },
      "text/plain": [
       "  0%|          | 0/4 [00:00<?, ?it/s]"
      ]
     },
     "metadata": {},
     "output_type": "display_data"
    },
    {
     "name": "stdout",
     "output_type": "stream",
     "text": [
      "{'mse': 0.06254102701197067} {'mse': 0.06244920187909156}\n"
     ]
    },
    {
     "data": {
      "application/vnd.jupyter.widget-view+json": {
       "model_id": "",
       "version_major": 2,
       "version_minor": 0
      },
      "text/plain": [
       "  0%|          | 0/24 [00:00<?, ?it/s]"
      ]
     },
     "metadata": {},
     "output_type": "display_data"
    },
    {
     "data": {
      "application/vnd.jupyter.widget-view+json": {
       "model_id": "",
       "version_major": 2,
       "version_minor": 0
      },
      "text/plain": [
       "  0%|          | 0/24 [00:00<?, ?it/s]"
      ]
     },
     "metadata": {},
     "output_type": "display_data"
    },
    {
     "data": {
      "application/vnd.jupyter.widget-view+json": {
       "model_id": "",
       "version_major": 2,
       "version_minor": 0
      },
      "text/plain": [
       "  0%|          | 0/4 [00:00<?, ?it/s]"
      ]
     },
     "metadata": {},
     "output_type": "display_data"
    },
    {
     "name": "stdout",
     "output_type": "stream",
     "text": [
      "{'mse': 0.062128801001391065} {'mse': 0.06194720014650375}\n"
     ]
    },
    {
     "data": {
      "application/vnd.jupyter.widget-view+json": {
       "model_id": "",
       "version_major": 2,
       "version_minor": 0
      },
      "text/plain": [
       "  0%|          | 0/24 [00:00<?, ?it/s]"
      ]
     },
     "metadata": {},
     "output_type": "display_data"
    },
    {
     "data": {
      "application/vnd.jupyter.widget-view+json": {
       "model_id": "",
       "version_major": 2,
       "version_minor": 0
      },
      "text/plain": [
       "  0%|          | 0/24 [00:00<?, ?it/s]"
      ]
     },
     "metadata": {},
     "output_type": "display_data"
    },
    {
     "data": {
      "application/vnd.jupyter.widget-view+json": {
       "model_id": "",
       "version_major": 2,
       "version_minor": 0
      },
      "text/plain": [
       "  0%|          | 0/4 [00:00<?, ?it/s]"
      ]
     },
     "metadata": {},
     "output_type": "display_data"
    },
    {
     "name": "stdout",
     "output_type": "stream",
     "text": [
      "{'mse': 0.06169941164040938} {'mse': 0.06161089977901429}\n"
     ]
    },
    {
     "data": {
      "application/vnd.jupyter.widget-view+json": {
       "model_id": "",
       "version_major": 2,
       "version_minor": 0
      },
      "text/plain": [
       "  0%|          | 0/24 [00:00<?, ?it/s]"
      ]
     },
     "metadata": {},
     "output_type": "display_data"
    },
    {
     "data": {
      "application/vnd.jupyter.widget-view+json": {
       "model_id": "",
       "version_major": 2,
       "version_minor": 0
      },
      "text/plain": [
       "  0%|          | 0/24 [00:00<?, ?it/s]"
      ]
     },
     "metadata": {},
     "output_type": "display_data"
    },
    {
     "data": {
      "application/vnd.jupyter.widget-view+json": {
       "model_id": "",
       "version_major": 2,
       "version_minor": 0
      },
      "text/plain": [
       "  0%|          | 0/4 [00:00<?, ?it/s]"
      ]
     },
     "metadata": {},
     "output_type": "display_data"
    },
    {
     "name": "stdout",
     "output_type": "stream",
     "text": [
      "{'mse': 0.06239312662354981} {'mse': 0.06216154240071774}\n"
     ]
    },
    {
     "data": {
      "application/vnd.jupyter.widget-view+json": {
       "model_id": "",
       "version_major": 2,
       "version_minor": 0
      },
      "text/plain": [
       "  0%|          | 0/24 [00:00<?, ?it/s]"
      ]
     },
     "metadata": {},
     "output_type": "display_data"
    },
    {
     "data": {
      "application/vnd.jupyter.widget-view+json": {
       "model_id": "",
       "version_major": 2,
       "version_minor": 0
      },
      "text/plain": [
       "  0%|          | 0/24 [00:00<?, ?it/s]"
      ]
     },
     "metadata": {},
     "output_type": "display_data"
    },
    {
     "data": {
      "application/vnd.jupyter.widget-view+json": {
       "model_id": "",
       "version_major": 2,
       "version_minor": 0
      },
      "text/plain": [
       "  0%|          | 0/4 [00:00<?, ?it/s]"
      ]
     },
     "metadata": {},
     "output_type": "display_data"
    },
    {
     "name": "stdout",
     "output_type": "stream",
     "text": [
      "{'mse': 0.061009536860045045} {'mse': 0.06074953989032656}\n"
     ]
    },
    {
     "data": {
      "application/vnd.jupyter.widget-view+json": {
       "model_id": "",
       "version_major": 2,
       "version_minor": 0
      },
      "text/plain": [
       "  0%|          | 0/24 [00:00<?, ?it/s]"
      ]
     },
     "metadata": {},
     "output_type": "display_data"
    },
    {
     "data": {
      "application/vnd.jupyter.widget-view+json": {
       "model_id": "",
       "version_major": 2,
       "version_minor": 0
      },
      "text/plain": [
       "  0%|          | 0/24 [00:00<?, ?it/s]"
      ]
     },
     "metadata": {},
     "output_type": "display_data"
    },
    {
     "data": {
      "application/vnd.jupyter.widget-view+json": {
       "model_id": "",
       "version_major": 2,
       "version_minor": 0
      },
      "text/plain": [
       "  0%|          | 0/4 [00:00<?, ?it/s]"
      ]
     },
     "metadata": {},
     "output_type": "display_data"
    },
    {
     "name": "stdout",
     "output_type": "stream",
     "text": [
      "{'mse': 0.06268907928404709} {'mse': 0.06258407451119274}\n"
     ]
    }
   ],
   "source": [
    "model = Model().to(device)\n",
    "opt = optim.Adam(model.parameters(), lr=0.01)\n",
    "history = {'train': [], 'val': []}\n",
    "for epoch in tqdm(range(30)):\n",
    "    model.train()\n",
    "    torch.set_grad_enabled(True)\n",
    "    for batch in tqdm(train_loader, leave=False):\n",
    "        batch = to_device(device, batch)\n",
    "        opt.zero_grad()\n",
    "        model_out = model(batch)\n",
    "        loss = train_loss(batch, model_out)\n",
    "        loss.backward()\n",
    "        opt.step()\n",
    "    history['train'].append(validate(model, train_loader))\n",
    "    history['val'].append(validate(model, val_loader))\n",
    "    print(history['train'][-1], history['val'][-1])\n",
    "final_model = model"
   ]
  },
  {
   "cell_type": "code",
   "execution_count": 24,
   "id": "49a65762",
   "metadata": {},
   "outputs": [
    {
     "data": {
      "image/png": "[encoded data removed]",
      "text/plain": [
       "<Figure size 432x288 with 1 Axes>"
      ]
     },
     "metadata": {
      "needs_background": "light"
     },
     "output_type": "display_data"
    }
   ],
   "source": [
    "def plot_metric(history, name):\n",
    "    plt.plot([record[name] for record in history['train']], c='r', label='train')\n",
    "    plt.plot([record[name] for record in history['val']], c='b', label='val')\n",
    "    plt.legend()\n",
    "    plt.title(name)\n",
    "    plt.xlabel('epoch')\n",
    "\n",
    "plot_metric(history, 'mse')"
   ]
  },
  {
   "cell_type": "markdown",
   "id": "9692157b",
   "metadata": {},
   "source": [
    "Простые baseline'ы побиты. Модель чему-то научилась."
   ]
  },
  {
   "cell_type": "markdown",
   "id": "d492a675",
   "metadata": {},
   "source": [
    "# inference\n",
    "\n",
    "Здесь описана процедура inference'а. Для теста берется валидационный датасет. Для применения к произвольному датасету, нужно указать к нему путь в строке\n",
    "```\n",
    "    inference = DenoiseDataset(Path('<path_to_dataset>'), has_target=False)\n",
    "\n",
    "```"
   ]
  },
  {
   "cell_type": "code",
   "execution_count": 25,
   "id": "47394f93",
   "metadata": {},
   "outputs": [],
   "source": [
    "%%bash\n",
    "rm -Rf ./inference\n",
    "mkdir -p inference\n",
    "cp -r ./Goznak_ML_Tasks/val/noisy ./inference"
   ]
  },
  {
   "cell_type": "code",
   "execution_count": 26,
   "id": "4ee94da3",
   "metadata": {},
   "outputs": [
    {
     "data": {
      "application/vnd.jupyter.widget-view+json": {
       "model_id": "",
       "version_major": 2,
       "version_minor": 0
      },
      "text/plain": [
       "  0%|          | 0/4 [00:00<?, ?it/s]"
      ]
     },
     "metadata": {},
     "output_type": "display_data"
    }
   ],
   "source": [
    "inference = DenoiseDataset(Path('./inference'), has_target=False)\n",
    "inference_loader = DataLoader(\n",
    "    inference, \n",
    "    batch_size=batch_size, \n",
    "    num_workers=num_workers,\n",
    "    collate_fn=loader_collate\n",
    ")\n",
    "final_model.eval()\n",
    "torch.set_grad_enabled(False)\n",
    "for batch in tqdm(inference_loader, leave=False):\n",
    "    batch =to_device(device, batch)\n",
    "    model_out = final_model(batch)\n",
    "    for num, name in enumerate(batch['name']):\n",
    "        target = inference.root/'clean'/name.split('_')[0]/name\n",
    "        target.parent.mkdir(exist_ok=True, parents=True)\n",
    "        seq_len = batch['mask'][num].sum().long().cpu().numpy()\n",
    "        predict = model_out[num,0:seq_len].cpu().numpy()\n",
    "        np.save(target, predict)"
   ]
  },
  {
   "cell_type": "markdown",
   "id": "3f8f9dbf",
   "metadata": {},
   "source": [
    "Просто для проверки, что все записалось."
   ]
  },
  {
   "cell_type": "code",
   "execution_count": 27,
   "id": "c42bed32",
   "metadata": {},
   "outputs": [
    {
     "data": {
      "text/plain": [
       "(685, 80)"
      ]
     },
     "execution_count": 27,
     "metadata": {},
     "output_type": "execute_result"
    }
   ],
   "source": [
    "inference_test = DenoiseDataset(Path('./inference/'))\n",
    "inference_test[0]['noisy'].shape"
   ]
  }
 ],
 "metadata": {
  "kernelspec": {
   "display_name": "Python 3 (ipykernel)",
   "language": "python",
   "name": "python3"
  },
  "language_info": {
   "codemirror_mode": {
    "name": "ipython",
    "version": 3
   },
   "file_extension": ".py",
   "mimetype": "text/x-python",
   "name": "python",
   "nbconvert_exporter": "python",
   "pygments_lexer": "ipython3",
   "version": "3.8.12"
  },
  "toc": {
   "base_numbering": 1,
   "nav_menu": {},
   "number_sections": true,
   "sideBar": true,
   "skip_h1_title": false,
   "title_cell": "Table of Contents",
   "title_sidebar": "Contents",
   "toc_cell": false,
   "toc_position": {},
   "toc_section_display": true,
   "toc_window_display": false
  }
 },
 "nbformat": 4,
 "nbformat_minor": 5
}
